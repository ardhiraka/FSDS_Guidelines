{
  "cells": [
    {
      "cell_type": "markdown",
      "metadata": {
        "id": "t9ppxXxr4Qmf"
      },
      "source": [
        "# P1W2D3AM - Model Improvement"
      ]
    },
    {
      "cell_type": "markdown",
      "source": [
        "> **For simplicity only, in this notebook there are no handling outliers and handling missing values. The purpose of this notebook is just to demonstrate how to use Model Improvement/Hyperparameter Tuning.**"
      ],
      "metadata": {
        "id": "ETOh-eDV-Uqe"
      }
    },
    {
      "cell_type": "markdown",
      "source": [
        "## Import Libraries & Data Loading"
      ],
      "metadata": {
        "id": "e70LtIsuBidr"
      }
    },
    {
      "cell_type": "code",
      "source": [
        "# Import Libraries\n",
        "\n",
        "import numpy as np\n",
        "import pandas as pd\n",
        "import seaborn as sns\n",
        "import matplotlib.pyplot as plt\n",
        "\n",
        "from sklearn.model_selection import train_test_split\n",
        "from sklearn.preprocessing import MinMaxScaler, StandardScaler, OneHotEncoder\n",
        "from sklearn.ensemble import RandomForestClassifier\n",
        "from sklearn.metrics import confusion_matrix, classification_report, precision_score, recall_score, accuracy_score, f1_score, ConfusionMatrixDisplay"
      ],
      "metadata": {
        "id": "ywrlHAVxtb8X"
      },
      "execution_count": 1,
      "outputs": []
    },
    {
      "cell_type": "code",
      "execution_count": 2,
      "metadata": {
        "colab": {
          "base_uri": "https://localhost:8080/",
          "height": 0
        },
        "id": "1fK3IflLa_b-",
        "outputId": "218614fc-d3c7-4656-a7e0-ef19a8dc95f2"
      },
      "outputs": [
        {
          "output_type": "execute_result",
          "data": {
            "text/plain": [
              "     UserID    Kelamin  Usia  EstimasiGaji  Beli\n",
              "0  15624510       Laki    19         19000     0\n",
              "1  15810944       Laki    35         20000     0\n",
              "2  15668575  Perempuan    26         43000     0\n",
              "3  15603246  Perempuan    27         57000     0\n",
              "4  15804002       Laki    19         76000     0"
            ],
            "text/html": [
              "\n",
              "  <div id=\"df-43b1e8fd-6386-466b-962b-5bb37ffe28da\">\n",
              "    <div class=\"colab-df-container\">\n",
              "      <div>\n",
              "<style scoped>\n",
              "    .dataframe tbody tr th:only-of-type {\n",
              "        vertical-align: middle;\n",
              "    }\n",
              "\n",
              "    .dataframe tbody tr th {\n",
              "        vertical-align: top;\n",
              "    }\n",
              "\n",
              "    .dataframe thead th {\n",
              "        text-align: right;\n",
              "    }\n",
              "</style>\n",
              "<table border=\"1\" class=\"dataframe\">\n",
              "  <thead>\n",
              "    <tr style=\"text-align: right;\">\n",
              "      <th></th>\n",
              "      <th>UserID</th>\n",
              "      <th>Kelamin</th>\n",
              "      <th>Usia</th>\n",
              "      <th>EstimasiGaji</th>\n",
              "      <th>Beli</th>\n",
              "    </tr>\n",
              "  </thead>\n",
              "  <tbody>\n",
              "    <tr>\n",
              "      <th>0</th>\n",
              "      <td>15624510</td>\n",
              "      <td>Laki</td>\n",
              "      <td>19</td>\n",
              "      <td>19000</td>\n",
              "      <td>0</td>\n",
              "    </tr>\n",
              "    <tr>\n",
              "      <th>1</th>\n",
              "      <td>15810944</td>\n",
              "      <td>Laki</td>\n",
              "      <td>35</td>\n",
              "      <td>20000</td>\n",
              "      <td>0</td>\n",
              "    </tr>\n",
              "    <tr>\n",
              "      <th>2</th>\n",
              "      <td>15668575</td>\n",
              "      <td>Perempuan</td>\n",
              "      <td>26</td>\n",
              "      <td>43000</td>\n",
              "      <td>0</td>\n",
              "    </tr>\n",
              "    <tr>\n",
              "      <th>3</th>\n",
              "      <td>15603246</td>\n",
              "      <td>Perempuan</td>\n",
              "      <td>27</td>\n",
              "      <td>57000</td>\n",
              "      <td>0</td>\n",
              "    </tr>\n",
              "    <tr>\n",
              "      <th>4</th>\n",
              "      <td>15804002</td>\n",
              "      <td>Laki</td>\n",
              "      <td>19</td>\n",
              "      <td>76000</td>\n",
              "      <td>0</td>\n",
              "    </tr>\n",
              "  </tbody>\n",
              "</table>\n",
              "</div>\n",
              "      <button class=\"colab-df-convert\" onclick=\"convertToInteractive('df-43b1e8fd-6386-466b-962b-5bb37ffe28da')\"\n",
              "              title=\"Convert this dataframe to an interactive table.\"\n",
              "              style=\"display:none;\">\n",
              "        \n",
              "  <svg xmlns=\"http://www.w3.org/2000/svg\" height=\"24px\"viewBox=\"0 0 24 24\"\n",
              "       width=\"24px\">\n",
              "    <path d=\"M0 0h24v24H0V0z\" fill=\"none\"/>\n",
              "    <path d=\"M18.56 5.44l.94 2.06.94-2.06 2.06-.94-2.06-.94-.94-2.06-.94 2.06-2.06.94zm-11 1L8.5 8.5l.94-2.06 2.06-.94-2.06-.94L8.5 2.5l-.94 2.06-2.06.94zm10 10l.94 2.06.94-2.06 2.06-.94-2.06-.94-.94-2.06-.94 2.06-2.06.94z\"/><path d=\"M17.41 7.96l-1.37-1.37c-.4-.4-.92-.59-1.43-.59-.52 0-1.04.2-1.43.59L10.3 9.45l-7.72 7.72c-.78.78-.78 2.05 0 2.83L4 21.41c.39.39.9.59 1.41.59.51 0 1.02-.2 1.41-.59l7.78-7.78 2.81-2.81c.8-.78.8-2.07 0-2.86zM5.41 20L4 18.59l7.72-7.72 1.47 1.35L5.41 20z\"/>\n",
              "  </svg>\n",
              "      </button>\n",
              "      \n",
              "  <style>\n",
              "    .colab-df-container {\n",
              "      display:flex;\n",
              "      flex-wrap:wrap;\n",
              "      gap: 12px;\n",
              "    }\n",
              "\n",
              "    .colab-df-convert {\n",
              "      background-color: #E8F0FE;\n",
              "      border: none;\n",
              "      border-radius: 50%;\n",
              "      cursor: pointer;\n",
              "      display: none;\n",
              "      fill: #1967D2;\n",
              "      height: 32px;\n",
              "      padding: 0 0 0 0;\n",
              "      width: 32px;\n",
              "    }\n",
              "\n",
              "    .colab-df-convert:hover {\n",
              "      background-color: #E2EBFA;\n",
              "      box-shadow: 0px 1px 2px rgba(60, 64, 67, 0.3), 0px 1px 3px 1px rgba(60, 64, 67, 0.15);\n",
              "      fill: #174EA6;\n",
              "    }\n",
              "\n",
              "    [theme=dark] .colab-df-convert {\n",
              "      background-color: #3B4455;\n",
              "      fill: #D2E3FC;\n",
              "    }\n",
              "\n",
              "    [theme=dark] .colab-df-convert:hover {\n",
              "      background-color: #434B5C;\n",
              "      box-shadow: 0px 1px 3px 1px rgba(0, 0, 0, 0.15);\n",
              "      filter: drop-shadow(0px 1px 2px rgba(0, 0, 0, 0.3));\n",
              "      fill: #FFFFFF;\n",
              "    }\n",
              "  </style>\n",
              "\n",
              "      <script>\n",
              "        const buttonEl =\n",
              "          document.querySelector('#df-43b1e8fd-6386-466b-962b-5bb37ffe28da button.colab-df-convert');\n",
              "        buttonEl.style.display =\n",
              "          google.colab.kernel.accessAllowed ? 'block' : 'none';\n",
              "\n",
              "        async function convertToInteractive(key) {\n",
              "          const element = document.querySelector('#df-43b1e8fd-6386-466b-962b-5bb37ffe28da');\n",
              "          const dataTable =\n",
              "            await google.colab.kernel.invokeFunction('convertToInteractive',\n",
              "                                                     [key], {});\n",
              "          if (!dataTable) return;\n",
              "\n",
              "          const docLinkHtml = 'Like what you see? Visit the ' +\n",
              "            '<a target=\"_blank\" href=https://colab.research.google.com/notebooks/data_table.ipynb>data table notebook</a>'\n",
              "            + ' to learn more about interactive tables.';\n",
              "          element.innerHTML = '';\n",
              "          dataTable['output_type'] = 'display_data';\n",
              "          await google.colab.output.renderOutput(dataTable, element);\n",
              "          const docLink = document.createElement('div');\n",
              "          docLink.innerHTML = docLinkHtml;\n",
              "          element.appendChild(docLink);\n",
              "        }\n",
              "      </script>\n",
              "    </div>\n",
              "  </div>\n",
              "  "
            ]
          },
          "metadata": {},
          "execution_count": 2
        }
      ],
      "source": [
        "# Data Loading\n",
        "\n",
        "df = pd.read_csv('https://raw.githubusercontent.com/ardhiraka/FSDS_Guidelines/master/p1/v3/w2/P1W2D3AM%20-%20Model%20Improvement%20-%20Iklan_sosmed.csv')\n",
        "df.head()"
      ]
    },
    {
      "cell_type": "markdown",
      "source": [
        "## Exploratory Data Analysis (EDA)"
      ],
      "metadata": {
        "id": "xn-YqBhsBs3T"
      }
    },
    {
      "cell_type": "code",
      "source": [
        "# Cardinality Check\n",
        "\n",
        "print('Shape of Dataset : ', df.shape)\n",
        "print('')\n",
        "\n",
        "for col in df.columns.tolist():\n",
        "  print('Col : ', col)\n",
        "  print('Length Unique Value : ', df[col].nunique())\n",
        "  print('')"
      ],
      "metadata": {
        "colab": {
          "base_uri": "https://localhost:8080/"
        },
        "id": "Q9Z1kHo_u0GC",
        "outputId": "d62bd455-1049-4b28-dbec-8449e69a65ee"
      },
      "execution_count": 3,
      "outputs": [
        {
          "output_type": "stream",
          "name": "stdout",
          "text": [
            "Shape of Dataset :  (400, 5)\n",
            "\n",
            "Col :  UserID\n",
            "Length Unique Value :  400\n",
            "\n",
            "Col :  Kelamin\n",
            "Length Unique Value :  2\n",
            "\n",
            "Col :  Usia\n",
            "Length Unique Value :  43\n",
            "\n",
            "Col :  EstimasiGaji\n",
            "Length Unique Value :  117\n",
            "\n",
            "Col :  Beli\n",
            "Length Unique Value :  2\n",
            "\n"
          ]
        }
      ]
    },
    {
      "cell_type": "markdown",
      "source": [
        "Since the number of unique value of column `User ID` is equal to the length of dataset, we can remove this feature. Also, it seems that we can't reduce the cardinality of this column  because there is no information that can be used from this column or from other columns."
      ],
      "metadata": {
        "id": "5Pm7FE_XvXN-"
      }
    },
    {
      "cell_type": "markdown",
      "source": [
        "## Data Preprocessing"
      ],
      "metadata": {
        "id": "fN8q-rzuBxni"
      }
    },
    {
      "cell_type": "code",
      "execution_count": 4,
      "metadata": {
        "id": "6HI53sM_btlA",
        "colab": {
          "base_uri": "https://localhost:8080/",
          "height": 0
        },
        "outputId": "5935ced1-505e-42d2-90e6-66bec917c48d"
      },
      "outputs": [
        {
          "output_type": "execute_result",
          "data": {
            "text/plain": [
              "     UserID    Kelamin  Usia  EstimasiGaji\n",
              "0  15624510       Laki    19         19000\n",
              "1  15810944       Laki    35         20000\n",
              "2  15668575  Perempuan    26         43000\n",
              "3  15603246  Perempuan    27         57000\n",
              "4  15804002       Laki    19         76000"
            ],
            "text/html": [
              "\n",
              "  <div id=\"df-0066b312-e6fb-4323-acc5-e2076ae81980\">\n",
              "    <div class=\"colab-df-container\">\n",
              "      <div>\n",
              "<style scoped>\n",
              "    .dataframe tbody tr th:only-of-type {\n",
              "        vertical-align: middle;\n",
              "    }\n",
              "\n",
              "    .dataframe tbody tr th {\n",
              "        vertical-align: top;\n",
              "    }\n",
              "\n",
              "    .dataframe thead th {\n",
              "        text-align: right;\n",
              "    }\n",
              "</style>\n",
              "<table border=\"1\" class=\"dataframe\">\n",
              "  <thead>\n",
              "    <tr style=\"text-align: right;\">\n",
              "      <th></th>\n",
              "      <th>UserID</th>\n",
              "      <th>Kelamin</th>\n",
              "      <th>Usia</th>\n",
              "      <th>EstimasiGaji</th>\n",
              "    </tr>\n",
              "  </thead>\n",
              "  <tbody>\n",
              "    <tr>\n",
              "      <th>0</th>\n",
              "      <td>15624510</td>\n",
              "      <td>Laki</td>\n",
              "      <td>19</td>\n",
              "      <td>19000</td>\n",
              "    </tr>\n",
              "    <tr>\n",
              "      <th>1</th>\n",
              "      <td>15810944</td>\n",
              "      <td>Laki</td>\n",
              "      <td>35</td>\n",
              "      <td>20000</td>\n",
              "    </tr>\n",
              "    <tr>\n",
              "      <th>2</th>\n",
              "      <td>15668575</td>\n",
              "      <td>Perempuan</td>\n",
              "      <td>26</td>\n",
              "      <td>43000</td>\n",
              "    </tr>\n",
              "    <tr>\n",
              "      <th>3</th>\n",
              "      <td>15603246</td>\n",
              "      <td>Perempuan</td>\n",
              "      <td>27</td>\n",
              "      <td>57000</td>\n",
              "    </tr>\n",
              "    <tr>\n",
              "      <th>4</th>\n",
              "      <td>15804002</td>\n",
              "      <td>Laki</td>\n",
              "      <td>19</td>\n",
              "      <td>76000</td>\n",
              "    </tr>\n",
              "  </tbody>\n",
              "</table>\n",
              "</div>\n",
              "      <button class=\"colab-df-convert\" onclick=\"convertToInteractive('df-0066b312-e6fb-4323-acc5-e2076ae81980')\"\n",
              "              title=\"Convert this dataframe to an interactive table.\"\n",
              "              style=\"display:none;\">\n",
              "        \n",
              "  <svg xmlns=\"http://www.w3.org/2000/svg\" height=\"24px\"viewBox=\"0 0 24 24\"\n",
              "       width=\"24px\">\n",
              "    <path d=\"M0 0h24v24H0V0z\" fill=\"none\"/>\n",
              "    <path d=\"M18.56 5.44l.94 2.06.94-2.06 2.06-.94-2.06-.94-.94-2.06-.94 2.06-2.06.94zm-11 1L8.5 8.5l.94-2.06 2.06-.94-2.06-.94L8.5 2.5l-.94 2.06-2.06.94zm10 10l.94 2.06.94-2.06 2.06-.94-2.06-.94-.94-2.06-.94 2.06-2.06.94z\"/><path d=\"M17.41 7.96l-1.37-1.37c-.4-.4-.92-.59-1.43-.59-.52 0-1.04.2-1.43.59L10.3 9.45l-7.72 7.72c-.78.78-.78 2.05 0 2.83L4 21.41c.39.39.9.59 1.41.59.51 0 1.02-.2 1.41-.59l7.78-7.78 2.81-2.81c.8-.78.8-2.07 0-2.86zM5.41 20L4 18.59l7.72-7.72 1.47 1.35L5.41 20z\"/>\n",
              "  </svg>\n",
              "      </button>\n",
              "      \n",
              "  <style>\n",
              "    .colab-df-container {\n",
              "      display:flex;\n",
              "      flex-wrap:wrap;\n",
              "      gap: 12px;\n",
              "    }\n",
              "\n",
              "    .colab-df-convert {\n",
              "      background-color: #E8F0FE;\n",
              "      border: none;\n",
              "      border-radius: 50%;\n",
              "      cursor: pointer;\n",
              "      display: none;\n",
              "      fill: #1967D2;\n",
              "      height: 32px;\n",
              "      padding: 0 0 0 0;\n",
              "      width: 32px;\n",
              "    }\n",
              "\n",
              "    .colab-df-convert:hover {\n",
              "      background-color: #E2EBFA;\n",
              "      box-shadow: 0px 1px 2px rgba(60, 64, 67, 0.3), 0px 1px 3px 1px rgba(60, 64, 67, 0.15);\n",
              "      fill: #174EA6;\n",
              "    }\n",
              "\n",
              "    [theme=dark] .colab-df-convert {\n",
              "      background-color: #3B4455;\n",
              "      fill: #D2E3FC;\n",
              "    }\n",
              "\n",
              "    [theme=dark] .colab-df-convert:hover {\n",
              "      background-color: #434B5C;\n",
              "      box-shadow: 0px 1px 3px 1px rgba(0, 0, 0, 0.15);\n",
              "      filter: drop-shadow(0px 1px 2px rgba(0, 0, 0, 0.3));\n",
              "      fill: #FFFFFF;\n",
              "    }\n",
              "  </style>\n",
              "\n",
              "      <script>\n",
              "        const buttonEl =\n",
              "          document.querySelector('#df-0066b312-e6fb-4323-acc5-e2076ae81980 button.colab-df-convert');\n",
              "        buttonEl.style.display =\n",
              "          google.colab.kernel.accessAllowed ? 'block' : 'none';\n",
              "\n",
              "        async function convertToInteractive(key) {\n",
              "          const element = document.querySelector('#df-0066b312-e6fb-4323-acc5-e2076ae81980');\n",
              "          const dataTable =\n",
              "            await google.colab.kernel.invokeFunction('convertToInteractive',\n",
              "                                                     [key], {});\n",
              "          if (!dataTable) return;\n",
              "\n",
              "          const docLinkHtml = 'Like what you see? Visit the ' +\n",
              "            '<a target=\"_blank\" href=https://colab.research.google.com/notebooks/data_table.ipynb>data table notebook</a>'\n",
              "            + ' to learn more about interactive tables.';\n",
              "          element.innerHTML = '';\n",
              "          dataTable['output_type'] = 'display_data';\n",
              "          await google.colab.output.renderOutput(dataTable, element);\n",
              "          const docLink = document.createElement('div');\n",
              "          docLink.innerHTML = docLinkHtml;\n",
              "          element.appendChild(docLink);\n",
              "        }\n",
              "      </script>\n",
              "    </div>\n",
              "  </div>\n",
              "  "
            ]
          },
          "metadata": {},
          "execution_count": 4
        }
      ],
      "source": [
        "# Split between `X` (Features) and `y` (Target)\n",
        "\n",
        "X = df.drop('Beli', axis=1)\n",
        "y = df['Beli']\n",
        "X.head()"
      ]
    },
    {
      "cell_type": "code",
      "execution_count": 5,
      "metadata": {
        "colab": {
          "base_uri": "https://localhost:8080/",
          "height": 0
        },
        "id": "waeKQ6p2cST2",
        "outputId": "2394afc3-6332-4aaf-98b9-5c583779cf65"
      },
      "outputs": [
        {
          "output_type": "stream",
          "name": "stdout",
          "text": [
            "0    257\n",
            "1    143\n",
            "Name: Beli, dtype: int64\n",
            "\n"
          ]
        },
        {
          "output_type": "execute_result",
          "data": {
            "text/plain": [
              "<matplotlib.axes._subplots.AxesSubplot at 0x7fe007f3c990>"
            ]
          },
          "metadata": {},
          "execution_count": 5
        },
        {
          "output_type": "display_data",
          "data": {
            "text/plain": [
              "<Figure size 432x288 with 1 Axes>"
            ],
            "image/png": "[encoded data removed]"
          },
          "metadata": {
            "needs_background": "light"
          }
        }
      ],
      "source": [
        "# Check Target Class\n",
        "\n",
        "print(y.value_counts())\n",
        "print('')\n",
        "\n",
        "y.value_counts().plot.bar(xlabel='Target Class', ylabel='Count', legend=True)"
      ]
    },
    {
      "cell_type": "markdown",
      "source": [
        "The dataset contains **64.25 % of class `0`** and **35.75 % of class `1`**. It's still classified as balanced dataset although the composition tends to class `0`."
      ],
      "metadata": {
        "id": "Je3c_7dq7fKy"
      }
    },
    {
      "cell_type": "code",
      "execution_count": 6,
      "metadata": {
        "id": "Fz6cDjIhcDj9",
        "colab": {
          "base_uri": "https://localhost:8080/"
        },
        "outputId": "ac8b5191-1e0f-4a2c-91d3-ca661c036e78"
      },
      "outputs": [
        {
          "output_type": "stream",
          "name": "stdout",
          "text": [
            "Size of Train-Set :  (280, 4)\n",
            "Size of Test-Set  :  (120, 4)\n"
          ]
        }
      ],
      "source": [
        "# Split between Train-Set and Test-Set\n",
        "\n",
        "X_train, X_test, y_train, y_test = train_test_split(X, y, test_size=0.3, stratify=y, random_state=8)\n",
        "\n",
        "print('Size of Train-Set : ', X_train.shape)\n",
        "print('Size of Test-Set  : ', X_test.shape)"
      ]
    },
    {
      "cell_type": "code",
      "source": [
        "# Drop column `User ID`\n",
        "\n",
        "X_train = X_train.drop('UserID', axis=1)\n",
        "X_test = X_test.drop('UserID', axis=1)\n",
        "X_train"
      ],
      "metadata": {
        "colab": {
          "base_uri": "https://localhost:8080/",
          "height": 0
        },
        "id": "1M0YLirK-ntj",
        "outputId": "b0f62720-6b1e-4c37-d3a3-44ee6287e651"
      },
      "execution_count": 7,
      "outputs": [
        {
          "output_type": "execute_result",
          "data": {
            "text/plain": [
              "       Kelamin  Usia  EstimasiGaji\n",
              "71   Perempuan    24         27000\n",
              "11   Perempuan    26         52000\n",
              "248       Laki    41         52000\n",
              "241       Laki    38         59000\n",
              "399  Perempuan    49         36000\n",
              "..         ...   ...           ...\n",
              "368       Laki    38         71000\n",
              "315  Perempuan    39         75000\n",
              "99   Perempuan    28         37000\n",
              "363  Perempuan    42         79000\n",
              "185       Laki    31         66000\n",
              "\n",
              "[280 rows x 3 columns]"
            ],
            "text/html": [
              "\n",
              "  <div id=\"df-202e9dad-e62d-40c7-b630-713626c35131\">\n",
              "    <div class=\"colab-df-container\">\n",
              "      <div>\n",
              "<style scoped>\n",
              "    .dataframe tbody tr th:only-of-type {\n",
              "        vertical-align: middle;\n",
              "    }\n",
              "\n",
              "    .dataframe tbody tr th {\n",
              "        vertical-align: top;\n",
              "    }\n",
              "\n",
              "    .dataframe thead th {\n",
              "        text-align: right;\n",
              "    }\n",
              "</style>\n",
              "<table border=\"1\" class=\"dataframe\">\n",
              "  <thead>\n",
              "    <tr style=\"text-align: right;\">\n",
              "      <th></th>\n",
              "      <th>Kelamin</th>\n",
              "      <th>Usia</th>\n",
              "      <th>EstimasiGaji</th>\n",
              "    </tr>\n",
              "  </thead>\n",
              "  <tbody>\n",
              "    <tr>\n",
              "      <th>71</th>\n",
              "      <td>Perempuan</td>\n",
              "      <td>24</td>\n",
              "      <td>27000</td>\n",
              "    </tr>\n",
              "    <tr>\n",
              "      <th>11</th>\n",
              "      <td>Perempuan</td>\n",
              "      <td>26</td>\n",
              "      <td>52000</td>\n",
              "    </tr>\n",
              "    <tr>\n",
              "      <th>248</th>\n",
              "      <td>Laki</td>\n",
              "      <td>41</td>\n",
              "      <td>52000</td>\n",
              "    </tr>\n",
              "    <tr>\n",
              "      <th>241</th>\n",
              "      <td>Laki</td>\n",
              "      <td>38</td>\n",
              "      <td>59000</td>\n",
              "    </tr>\n",
              "    <tr>\n",
              "      <th>399</th>\n",
              "      <td>Perempuan</td>\n",
              "      <td>49</td>\n",
              "      <td>36000</td>\n",
              "    </tr>\n",
              "    <tr>\n",
              "      <th>...</th>\n",
              "      <td>...</td>\n",
              "      <td>...</td>\n",
              "      <td>...</td>\n",
              "    </tr>\n",
              "    <tr>\n",
              "      <th>368</th>\n",
              "      <td>Laki</td>\n",
              "      <td>38</td>\n",
              "      <td>71000</td>\n",
              "    </tr>\n",
              "    <tr>\n",
              "      <th>315</th>\n",
              "      <td>Perempuan</td>\n",
              "      <td>39</td>\n",
              "      <td>75000</td>\n",
              "    </tr>\n",
              "    <tr>\n",
              "      <th>99</th>\n",
              "      <td>Perempuan</td>\n",
              "      <td>28</td>\n",
              "      <td>37000</td>\n",
              "    </tr>\n",
              "    <tr>\n",
              "      <th>363</th>\n",
              "      <td>Perempuan</td>\n",
              "      <td>42</td>\n",
              "      <td>79000</td>\n",
              "    </tr>\n",
              "    <tr>\n",
              "      <th>185</th>\n",
              "      <td>Laki</td>\n",
              "      <td>31</td>\n",
              "      <td>66000</td>\n",
              "    </tr>\n",
              "  </tbody>\n",
              "</table>\n",
              "<p>280 rows × 3 columns</p>\n",
              "</div>\n",
              "      <button class=\"colab-df-convert\" onclick=\"convertToInteractive('df-202e9dad-e62d-40c7-b630-713626c35131')\"\n",
              "              title=\"Convert this dataframe to an interactive table.\"\n",
              "              style=\"display:none;\">\n",
              "        \n",
              "  <svg xmlns=\"http://www.w3.org/2000/svg\" height=\"24px\"viewBox=\"0 0 24 24\"\n",
              "       width=\"24px\">\n",
              "    <path d=\"M0 0h24v24H0V0z\" fill=\"none\"/>\n",
              "    <path d=\"M18.56 5.44l.94 2.06.94-2.06 2.06-.94-2.06-.94-.94-2.06-.94 2.06-2.06.94zm-11 1L8.5 8.5l.94-2.06 2.06-.94-2.06-.94L8.5 2.5l-.94 2.06-2.06.94zm10 10l.94 2.06.94-2.06 2.06-.94-2.06-.94-.94-2.06-.94 2.06-2.06.94z\"/><path d=\"M17.41 7.96l-1.37-1.37c-.4-.4-.92-.59-1.43-.59-.52 0-1.04.2-1.43.59L10.3 9.45l-7.72 7.72c-.78.78-.78 2.05 0 2.83L4 21.41c.39.39.9.59 1.41.59.51 0 1.02-.2 1.41-.59l7.78-7.78 2.81-2.81c.8-.78.8-2.07 0-2.86zM5.41 20L4 18.59l7.72-7.72 1.47 1.35L5.41 20z\"/>\n",
              "  </svg>\n",
              "      </button>\n",
              "      \n",
              "  <style>\n",
              "    .colab-df-container {\n",
              "      display:flex;\n",
              "      flex-wrap:wrap;\n",
              "      gap: 12px;\n",
              "    }\n",
              "\n",
              "    .colab-df-convert {\n",
              "      background-color: #E8F0FE;\n",
              "      border: none;\n",
              "      border-radius: 50%;\n",
              "      cursor: pointer;\n",
              "      display: none;\n",
              "      fill: #1967D2;\n",
              "      height: 32px;\n",
              "      padding: 0 0 0 0;\n",
              "      width: 32px;\n",
              "    }\n",
              "\n",
              "    .colab-df-convert:hover {\n",
              "      background-color: #E2EBFA;\n",
              "      box-shadow: 0px 1px 2px rgba(60, 64, 67, 0.3), 0px 1px 3px 1px rgba(60, 64, 67, 0.15);\n",
              "      fill: #174EA6;\n",
              "    }\n",
              "\n",
              "    [theme=dark] .colab-df-convert {\n",
              "      background-color: #3B4455;\n",
              "      fill: #D2E3FC;\n",
              "    }\n",
              "\n",
              "    [theme=dark] .colab-df-convert:hover {\n",
              "      background-color: #434B5C;\n",
              "      box-shadow: 0px 1px 3px 1px rgba(0, 0, 0, 0.15);\n",
              "      filter: drop-shadow(0px 1px 2px rgba(0, 0, 0, 0.3));\n",
              "      fill: #FFFFFF;\n",
              "    }\n",
              "  </style>\n",
              "\n",
              "      <script>\n",
              "        const buttonEl =\n",
              "          document.querySelector('#df-202e9dad-e62d-40c7-b630-713626c35131 button.colab-df-convert');\n",
              "        buttonEl.style.display =\n",
              "          google.colab.kernel.accessAllowed ? 'block' : 'none';\n",
              "\n",
              "        async function convertToInteractive(key) {\n",
              "          const element = document.querySelector('#df-202e9dad-e62d-40c7-b630-713626c35131');\n",
              "          const dataTable =\n",
              "            await google.colab.kernel.invokeFunction('convertToInteractive',\n",
              "                                                     [key], {});\n",
              "          if (!dataTable) return;\n",
              "\n",
              "          const docLinkHtml = 'Like what you see? Visit the ' +\n",
              "            '<a target=\"_blank\" href=https://colab.research.google.com/notebooks/data_table.ipynb>data table notebook</a>'\n",
              "            + ' to learn more about interactive tables.';\n",
              "          element.innerHTML = '';\n",
              "          dataTable['output_type'] = 'display_data';\n",
              "          await google.colab.output.renderOutput(dataTable, element);\n",
              "          const docLink = document.createElement('div');\n",
              "          docLink.innerHTML = docLinkHtml;\n",
              "          element.appendChild(docLink);\n",
              "        }\n",
              "      </script>\n",
              "    </div>\n",
              "  </div>\n",
              "  "
            ]
          },
          "metadata": {},
          "execution_count": 7
        }
      ]
    },
    {
      "cell_type": "code",
      "source": [
        "# Split between Numerical Columns and Categorical Columns\n",
        "\n",
        "X_train_num = X_train[['Usia', 'EstimasiGaji']]\n",
        "X_test_num = X_test[['Usia', 'EstimasiGaji']]\n",
        "\n",
        "X_train_cat = X_train[['Kelamin']]\n",
        "X_test_cat = X_test[['Kelamin']]"
      ],
      "metadata": {
        "id": "p4n5lOHx_00X"
      },
      "execution_count": 8,
      "outputs": []
    },
    {
      "cell_type": "code",
      "execution_count": 9,
      "metadata": {
        "id": "I7kXJon3YrD9"
      },
      "outputs": [],
      "source": [
        "# Feature Scaling & Feature Encoding\n",
        "\n",
        "minmax = MinMaxScaler()\n",
        "ohe = OneHotEncoder()\n",
        "\n",
        "minmax.fit(X_train_num)\n",
        "ohe.fit(X_train_cat)\n",
        "\n",
        "X_train_num = minmax.transform(X_train_num)\n",
        "X_test_num = minmax.transform(X_test_num)\n",
        "\n",
        "X_train_cat = ohe.transform(X_train_cat)\n",
        "X_test_cat = ohe.transform(X_test_cat)"
      ]
    },
    {
      "cell_type": "code",
      "source": [
        "# Merge Numerical Columns and Categorical Columns\n",
        "\n",
        "X_train_final = np.concatenate([X_train_num, X_train_cat.toarray()], axis=1)\n",
        "X_test_final = np.concatenate([X_test_num, X_test_cat.toarray()], axis=1)\n",
        "X_train_final"
      ],
      "metadata": {
        "colab": {
          "base_uri": "https://localhost:8080/"
        },
        "id": "sMEAspOPAha9",
        "outputId": "79b24b87-e4f9-4140-82aa-e4f4abc4cbf0"
      },
      "execution_count": 10,
      "outputs": [
        {
          "output_type": "execute_result",
          "data": {
            "text/plain": [
              "array([[0.14285714, 0.08888889, 0.        , 1.        ],\n",
              "       [0.19047619, 0.27407407, 0.        , 1.        ],\n",
              "       [0.54761905, 0.27407407, 1.        , 0.        ],\n",
              "       ...,\n",
              "       [0.23809524, 0.16296296, 0.        , 1.        ],\n",
              "       [0.57142857, 0.47407407, 0.        , 1.        ],\n",
              "       [0.30952381, 0.37777778, 1.        , 0.        ]])"
            ]
          },
          "metadata": {},
          "execution_count": 10
        }
      ]
    },
    {
      "cell_type": "markdown",
      "source": [
        "## Modeling"
      ],
      "metadata": {
        "id": "PVqYltSmB5Wb"
      }
    },
    {
      "cell_type": "markdown",
      "source": [
        "Let's create baseline model. Baseline model is a model that is trained using default parameters"
      ],
      "metadata": {
        "id": "ooBApDn5BGIT"
      }
    },
    {
      "cell_type": "code",
      "execution_count": 11,
      "metadata": {
        "id": "0GRTG3GIcfUD",
        "colab": {
          "base_uri": "https://localhost:8080/"
        },
        "outputId": "725bae32-0635-4e94-df1c-04a22927aa8a"
      },
      "outputs": [
        {
          "output_type": "execute_result",
          "data": {
            "text/plain": [
              "RandomForestClassifier()"
            ]
          },
          "metadata": {},
          "execution_count": 11
        }
      ],
      "source": [
        "# Baseline Model using Random Forest Algorithm\n",
        "\n",
        "rf = RandomForestClassifier()\n",
        "rf.fit(X_train_final, y_train)"
      ]
    },
    {
      "cell_type": "code",
      "source": [
        "# Check Performance Model against Train-Set\n",
        "\n",
        "y_pred_train = rf.predict(X_train_final)\n",
        "\n",
        "print('F1 Score - Train Set  : ', f1_score(y_train, y_pred_train), '\\n')\n",
        "print('Classification Report : \\n', classification_report(y_train, y_pred_train), '\\n')\n",
        "print('Confusion Matrix      : \\n', ConfusionMatrixDisplay.from_estimator(rf, X_train_final, y_train, cmap='Reds'))"
      ],
      "metadata": {
        "colab": {
          "base_uri": "https://localhost:8080/",
          "height": 0
        },
        "id": "r2_5-pnSCGYt",
        "outputId": "a16f6b32-2408-463b-e8eb-f6574e7e4c1d"
      },
      "execution_count": 12,
      "outputs": [
        {
          "output_type": "stream",
          "name": "stdout",
          "text": [
            "F1 Score - Train Set  :  0.9950248756218906 \n",
            "\n",
            "Classification Report : \n",
            "               precision    recall  f1-score   support\n",
            "\n",
            "           0       1.00      0.99      1.00       180\n",
            "           1       0.99      1.00      1.00       100\n",
            "\n",
            "    accuracy                           1.00       280\n",
            "   macro avg       1.00      1.00      1.00       280\n",
            "weighted avg       1.00      1.00      1.00       280\n",
            " \n",
            "\n",
            "Confusion Matrix      : \n",
            " <sklearn.metrics._plot.confusion_matrix.ConfusionMatrixDisplay object at 0x7fe007fc3a90>\n"
          ]
        },
        {
          "output_type": "display_data",
          "data": {
            "text/plain": [
              "<Figure size 432x288 with 2 Axes>"
            ],
            "image/png": "[encoded data removed]"
          },
          "metadata": {
            "needs_background": "light"
          }
        }
      ]
    },
    {
      "cell_type": "markdown",
      "source": [
        "## Cross Validation"
      ],
      "metadata": {
        "id": "cKeqLC9xHQQ6"
      }
    },
    {
      "cell_type": "markdown",
      "source": [
        "Wow ! Our model achieve 99% on F1-Score for the training-set, only one data is predicted wrong. \n",
        "\n",
        "* Is this just a coincidence? \n",
        "* Is this score valid? \n",
        "* How if the model gets data that is easy to learn on the train-set while later on the test-set contain data that is difficult to learn/predict?\n",
        "\n",
        "To answer these questions, we are gonna use Cross Validation. Cross-validation systematically creates and evaluates multiple models on multiple subsets of the dataset. Cross-validation provides performance measurements such as mean and standard deviation.\n",
        "\n",
        "* Mean : **how well** the procedure performs on average.\n",
        "* Standard deviation : **how much** the procedure is expected to vary in practice.\n",
        "\n",
        "Mean and standard deviation can be used to give a confidence interval on the expected performance on a machine learning procedure in practice."
      ],
      "metadata": {
        "id": "gY8L2FSAFz50"
      }
    },
    {
      "cell_type": "code",
      "source": [
        "# Cross Validation using `cross_val_score`\n",
        "\n",
        "%%time\n",
        "from sklearn.model_selection import cross_val_score\n",
        "\n",
        "f1_score_train_cross_val = cross_val_score(rf, \n",
        "                                           X_train_final, \n",
        "                                           y_train, \n",
        "                                           cv=3, \n",
        "                                           scoring='f1')\n",
        "\n",
        "print('F1 Score - All - Cross Validation  : ', f1_score_train_cross_val)\n",
        "print('F1 Score - Mean - Cross Validation : ', f1_score_train_cross_val.mean())\n",
        "print('F1 Score - Std - Cross Validation  : ', f1_score_train_cross_val.std())\n",
        "print('F1 Score - Range of Test-Set       : ', (f1_score_train_cross_val.mean()-f1_score_train_cross_val.std()) , '-', (f1_score_train_cross_val.mean()+f1_score_train_cross_val.std()))"
      ],
      "metadata": {
        "colab": {
          "base_uri": "https://localhost:8080/"
        },
        "id": "HieuIE9aG_ri",
        "outputId": "0b38671b-3d65-4dde-9d40-20b6072a7d93"
      },
      "execution_count": 13,
      "outputs": [
        {
          "output_type": "stream",
          "name": "stdout",
          "text": [
            "F1 Score - All - Cross Validation  :  [0.85714286 0.80645161 0.84931507]\n",
            "F1 Score - Mean - Cross Validation :  0.8376365128464113\n",
            "F1 Score - Std - Cross Validation  :  0.02228141313794953\n",
            "F1 Score - Range of Test-Set       :  0.8153550997084618 - 0.8599179259843608\n",
            "CPU times: user 516 ms, sys: 14 ms, total: 530 ms\n",
            "Wall time: 531 ms\n"
          ]
        }
      ]
    },
    {
      "cell_type": "code",
      "source": [
        "# Check Performance Model against Test-Set\n",
        "\n",
        "y_pred_test = rf.predict(X_test_final)\n",
        "\n",
        "print('F1 Score - Test Set   : ', f1_score(y_test, y_pred_test), '\\n')\n",
        "print('Classification Report : \\n', classification_report(y_test, y_pred_test), '\\n')\n",
        "print('Confusion Matrix      : \\n', ConfusionMatrixDisplay.from_estimator(rf, X_test_final, y_test, cmap='Reds'))"
      ],
      "metadata": {
        "colab": {
          "base_uri": "https://localhost:8080/",
          "height": 0
        },
        "id": "ISenwWVyW-a8",
        "outputId": "c6aa25f4-4b2a-4338-a77f-d44010717918"
      },
      "execution_count": 14,
      "outputs": [
        {
          "output_type": "stream",
          "name": "stdout",
          "text": [
            "F1 Score - Test Set   :  0.8695652173913043 \n",
            "\n",
            "Classification Report : \n",
            "               precision    recall  f1-score   support\n",
            "\n",
            "           0       0.96      0.88      0.92        77\n",
            "           1       0.82      0.93      0.87        43\n",
            "\n",
            "    accuracy                           0.90       120\n",
            "   macro avg       0.89      0.91      0.89       120\n",
            "weighted avg       0.91      0.90      0.90       120\n",
            " \n",
            "\n",
            "Confusion Matrix      : \n",
            " <sklearn.metrics._plot.confusion_matrix.ConfusionMatrixDisplay object at 0x7fe0079b2690>\n"
          ]
        },
        {
          "output_type": "display_data",
          "data": {
            "text/plain": [
              "<Figure size 432x288 with 2 Axes>"
            ],
            "image/png": "[encoded data removed]"
          },
          "metadata": {
            "needs_background": "light"
          }
        }
      ]
    },
    {
      "cell_type": "code",
      "source": [
        "# Save Classification Report into a Dictionary\n",
        "\n",
        "all_reports = {}\n",
        "score_reports = {\n",
        "    'train - precision' : precision_score(y_train, y_pred_train),\n",
        "    'train - recall' : recall_score(y_train, y_pred_train),\n",
        "    'train - accuracy' : accuracy_score(y_train, y_pred_train),\n",
        "    'train - f1_score' : f1_score(y_train, y_pred_train),\n",
        "    'test - precision' : precision_score(y_test, y_pred_test),\n",
        "    'test - recall' : recall_score(y_test, y_pred_test),\n",
        "    'test - accuracy_score' : accuracy_score(y_test, y_pred_test),\n",
        "    'test - f1_score' : f1_score(y_test, y_pred_test),\n",
        "}\n",
        "all_reports['Baseline (Default Hyperparameter)'] = score_reports\n",
        "pd.DataFrame(all_reports)"
      ],
      "metadata": {
        "colab": {
          "base_uri": "https://localhost:8080/",
          "height": 0
        },
        "id": "_h-A-b5WfvEJ",
        "outputId": "7ed1d0a8-54cd-4843-dbab-e8af01c1d55e"
      },
      "execution_count": 15,
      "outputs": [
        {
          "output_type": "execute_result",
          "data": {
            "text/plain": [
              "                       Baseline (Default Hyperparameter)\n",
              "test - accuracy_score                           0.900000\n",
              "test - f1_score                                 0.869565\n",
              "test - precision                                0.816327\n",
              "test - recall                                   0.930233\n",
              "train - accuracy                                0.996429\n",
              "train - f1_score                                0.995025\n",
              "train - precision                               0.990099\n",
              "train - recall                                  1.000000"
            ],
            "text/html": [
              "\n",
              "  <div id=\"df-2737548d-afe9-4d51-bd8f-2c6cac9411d5\">\n",
              "    <div class=\"colab-df-container\">\n",
              "      <div>\n",
              "<style scoped>\n",
              "    .dataframe tbody tr th:only-of-type {\n",
              "        vertical-align: middle;\n",
              "    }\n",
              "\n",
              "    .dataframe tbody tr th {\n",
              "        vertical-align: top;\n",
              "    }\n",
              "\n",
              "    .dataframe thead th {\n",
              "        text-align: right;\n",
              "    }\n",
              "</style>\n",
              "<table border=\"1\" class=\"dataframe\">\n",
              "  <thead>\n",
              "    <tr style=\"text-align: right;\">\n",
              "      <th></th>\n",
              "      <th>Baseline (Default Hyperparameter)</th>\n",
              "    </tr>\n",
              "  </thead>\n",
              "  <tbody>\n",
              "    <tr>\n",
              "      <th>test - accuracy_score</th>\n",
              "      <td>0.900000</td>\n",
              "    </tr>\n",
              "    <tr>\n",
              "      <th>test - f1_score</th>\n",
              "      <td>0.869565</td>\n",
              "    </tr>\n",
              "    <tr>\n",
              "      <th>test - precision</th>\n",
              "      <td>0.816327</td>\n",
              "    </tr>\n",
              "    <tr>\n",
              "      <th>test - recall</th>\n",
              "      <td>0.930233</td>\n",
              "    </tr>\n",
              "    <tr>\n",
              "      <th>train - accuracy</th>\n",
              "      <td>0.996429</td>\n",
              "    </tr>\n",
              "    <tr>\n",
              "      <th>train - f1_score</th>\n",
              "      <td>0.995025</td>\n",
              "    </tr>\n",
              "    <tr>\n",
              "      <th>train - precision</th>\n",
              "      <td>0.990099</td>\n",
              "    </tr>\n",
              "    <tr>\n",
              "      <th>train - recall</th>\n",
              "      <td>1.000000</td>\n",
              "    </tr>\n",
              "  </tbody>\n",
              "</table>\n",
              "</div>\n",
              "      <button class=\"colab-df-convert\" onclick=\"convertToInteractive('df-2737548d-afe9-4d51-bd8f-2c6cac9411d5')\"\n",
              "              title=\"Convert this dataframe to an interactive table.\"\n",
              "              style=\"display:none;\">\n",
              "        \n",
              "  <svg xmlns=\"http://www.w3.org/2000/svg\" height=\"24px\"viewBox=\"0 0 24 24\"\n",
              "       width=\"24px\">\n",
              "    <path d=\"M0 0h24v24H0V0z\" fill=\"none\"/>\n",
              "    <path d=\"M18.56 5.44l.94 2.06.94-2.06 2.06-.94-2.06-.94-.94-2.06-.94 2.06-2.06.94zm-11 1L8.5 8.5l.94-2.06 2.06-.94-2.06-.94L8.5 2.5l-.94 2.06-2.06.94zm10 10l.94 2.06.94-2.06 2.06-.94-2.06-.94-.94-2.06-.94 2.06-2.06.94z\"/><path d=\"M17.41 7.96l-1.37-1.37c-.4-.4-.92-.59-1.43-.59-.52 0-1.04.2-1.43.59L10.3 9.45l-7.72 7.72c-.78.78-.78 2.05 0 2.83L4 21.41c.39.39.9.59 1.41.59.51 0 1.02-.2 1.41-.59l7.78-7.78 2.81-2.81c.8-.78.8-2.07 0-2.86zM5.41 20L4 18.59l7.72-7.72 1.47 1.35L5.41 20z\"/>\n",
              "  </svg>\n",
              "      </button>\n",
              "      \n",
              "  <style>\n",
              "    .colab-df-container {\n",
              "      display:flex;\n",
              "      flex-wrap:wrap;\n",
              "      gap: 12px;\n",
              "    }\n",
              "\n",
              "    .colab-df-convert {\n",
              "      background-color: #E8F0FE;\n",
              "      border: none;\n",
              "      border-radius: 50%;\n",
              "      cursor: pointer;\n",
              "      display: none;\n",
              "      fill: #1967D2;\n",
              "      height: 32px;\n",
              "      padding: 0 0 0 0;\n",
              "      width: 32px;\n",
              "    }\n",
              "\n",
              "    .colab-df-convert:hover {\n",
              "      background-color: #E2EBFA;\n",
              "      box-shadow: 0px 1px 2px rgba(60, 64, 67, 0.3), 0px 1px 3px 1px rgba(60, 64, 67, 0.15);\n",
              "      fill: #174EA6;\n",
              "    }\n",
              "\n",
              "    [theme=dark] .colab-df-convert {\n",
              "      background-color: #3B4455;\n",
              "      fill: #D2E3FC;\n",
              "    }\n",
              "\n",
              "    [theme=dark] .colab-df-convert:hover {\n",
              "      background-color: #434B5C;\n",
              "      box-shadow: 0px 1px 3px 1px rgba(0, 0, 0, 0.15);\n",
              "      filter: drop-shadow(0px 1px 2px rgba(0, 0, 0, 0.3));\n",
              "      fill: #FFFFFF;\n",
              "    }\n",
              "  </style>\n",
              "\n",
              "      <script>\n",
              "        const buttonEl =\n",
              "          document.querySelector('#df-2737548d-afe9-4d51-bd8f-2c6cac9411d5 button.colab-df-convert');\n",
              "        buttonEl.style.display =\n",
              "          google.colab.kernel.accessAllowed ? 'block' : 'none';\n",
              "\n",
              "        async function convertToInteractive(key) {\n",
              "          const element = document.querySelector('#df-2737548d-afe9-4d51-bd8f-2c6cac9411d5');\n",
              "          const dataTable =\n",
              "            await google.colab.kernel.invokeFunction('convertToInteractive',\n",
              "                                                     [key], {});\n",
              "          if (!dataTable) return;\n",
              "\n",
              "          const docLinkHtml = 'Like what you see? Visit the ' +\n",
              "            '<a target=\"_blank\" href=https://colab.research.google.com/notebooks/data_table.ipynb>data table notebook</a>'\n",
              "            + ' to learn more about interactive tables.';\n",
              "          element.innerHTML = '';\n",
              "          dataTable['output_type'] = 'display_data';\n",
              "          await google.colab.output.renderOutput(dataTable, element);\n",
              "          const docLink = document.createElement('div');\n",
              "          docLink.innerHTML = docLinkHtml;\n",
              "          element.appendChild(docLink);\n",
              "        }\n",
              "      </script>\n",
              "    </div>\n",
              "  </div>\n",
              "  "
            ]
          },
          "metadata": {},
          "execution_count": 15
        }
      ]
    },
    {
      "cell_type": "markdown",
      "source": [
        "## Model Improvement (Hyperparameter Tuning)"
      ],
      "metadata": {
        "id": "mq40CmiMYdec"
      }
    },
    {
      "cell_type": "markdown",
      "source": [
        "### Manual Search"
      ],
      "metadata": {
        "id": "u8_D1yvXYh9I"
      }
    },
    {
      "cell_type": "code",
      "execution_count": 16,
      "metadata": {
        "colab": {
          "base_uri": "https://localhost:8080/"
        },
        "id": "fE3HoBXbddI6",
        "outputId": "fa5bb8d1-3331-4446-e06d-a9e9163913de"
      },
      "outputs": [
        {
          "output_type": "stream",
          "name": "stdout",
          "text": [
            "CPU times: user 351 ms, sys: 4.37 ms, total: 355 ms\n",
            "Wall time: 376 ms\n"
          ]
        },
        {
          "output_type": "execute_result",
          "data": {
            "text/plain": [
              "RandomForestClassifier(criterion='entropy', max_depth=100, n_estimators=150)"
            ]
          },
          "metadata": {},
          "execution_count": 16
        }
      ],
      "source": [
        "# Hyperparameter Tuning : Manual Search\n",
        "\n",
        "%%time\n",
        "\n",
        "rf_ms_1 = RandomForestClassifier(n_estimators=150,\n",
        "                                 criterion='entropy',\n",
        "                                 max_depth=100)\n",
        "rf_ms_1.fit(X_train_final, y_train)"
      ]
    },
    {
      "cell_type": "code",
      "source": [
        "# Check Performance Model against Train-Set\n",
        "\n",
        "y_pred_train = rf_ms_1.predict(X_train_final)\n",
        "\n",
        "print('F1 Score - Train Set  : ', f1_score(y_train, y_pred_train), '\\n')\n",
        "print('Classification Report : \\n', classification_report(y_train, y_pred_train), '\\n')\n",
        "print('Confusion Matrix      : \\n', ConfusionMatrixDisplay.from_estimator(rf_ms_1, X_train_final, y_train, cmap='Reds'))"
      ],
      "metadata": {
        "colab": {
          "base_uri": "https://localhost:8080/",
          "height": 545
        },
        "id": "4FXB_zf0ZBRV",
        "outputId": "710304c1-46ed-4b7a-952f-d865aaaf6e55"
      },
      "execution_count": 17,
      "outputs": [
        {
          "output_type": "stream",
          "name": "stdout",
          "text": [
            "F1 Score - Train Set  :  0.9950248756218906 \n",
            "\n",
            "Classification Report : \n",
            "               precision    recall  f1-score   support\n",
            "\n",
            "           0       1.00      0.99      1.00       180\n",
            "           1       0.99      1.00      1.00       100\n",
            "\n",
            "    accuracy                           1.00       280\n",
            "   macro avg       1.00      1.00      1.00       280\n",
            "weighted avg       1.00      1.00      1.00       280\n",
            " \n",
            "\n",
            "Confusion Matrix      : \n",
            " <sklearn.metrics._plot.confusion_matrix.ConfusionMatrixDisplay object at 0x7fe0077c6390>\n"
          ]
        },
        {
          "output_type": "display_data",
          "data": {
            "text/plain": [
              "<Figure size 432x288 with 2 Axes>"
            ],
            "image/png": "[encoded data removed]"
          },
          "metadata": {
            "needs_background": "light"
          }
        }
      ]
    },
    {
      "cell_type": "code",
      "source": [
        "# Cross Validation using `cross_val_score`\n",
        "\n",
        "%%time\n",
        "from sklearn.model_selection import cross_val_score\n",
        "\n",
        "f1_score_train_cross_val = cross_val_score(rf_ms_1, \n",
        "                                           X_train_final, \n",
        "                                           y_train, \n",
        "                                           cv=3, \n",
        "                                           scoring='f1')\n",
        "\n",
        "print('F1 Score - All - Cross Validation  : ', f1_score_train_cross_val)\n",
        "print('F1 Score - Mean - Cross Validation : ', f1_score_train_cross_val.mean())\n",
        "print('F1 Score - Std - Cross Validation  : ', f1_score_train_cross_val.std())\n",
        "print('F1 Score - Range of Test-Set       : ', (f1_score_train_cross_val.mean()-f1_score_train_cross_val.std()) , '-', (f1_score_train_cross_val.mean()+f1_score_train_cross_val.std()))"
      ],
      "metadata": {
        "colab": {
          "base_uri": "https://localhost:8080/"
        },
        "id": "Ad9NykQ_ZTKP",
        "outputId": "34f9adc6-7c0d-4aa7-fa64-9676348eae98"
      },
      "execution_count": 18,
      "outputs": [
        {
          "output_type": "stream",
          "name": "stdout",
          "text": [
            "F1 Score - All - Cross Validation  :  [0.89552239 0.80645161 0.84931507]\n",
            "F1 Score - Mean - Cross Validation :  0.8504296898186926\n",
            "F1 Score - Std - Cross Validation  :  0.036371532203710956\n",
            "F1 Score - Range of Test-Set       :  0.8140581576149817 - 0.8868012220224035\n",
            "CPU times: user 817 ms, sys: 12.3 ms, total: 830 ms\n",
            "Wall time: 826 ms\n"
          ]
        }
      ]
    },
    {
      "cell_type": "markdown",
      "source": [
        "We can see that the mean-accuracy of Cross Validation from model `rf_ms_1` (with new hyperparameter) is higher than model `rf` (using default parameter). \n",
        "\n",
        "We also can expect that the performance of test-set using `rf_ms_1` is higher (or at least still in range) than `rf`. Let's prove this!"
      ],
      "metadata": {
        "id": "uqkoaLiGaQMB"
      }
    },
    {
      "cell_type": "code",
      "source": [
        "# Check Performance Model against Test-Set\n",
        "\n",
        "y_pred_test = rf_ms_1.predict(X_test_final)\n",
        "\n",
        "print('F1 Score - Test Set   : ', f1_score(y_test, y_pred_test), '\\n')\n",
        "print('Classification Report : \\n', classification_report(y_test, y_pred_test), '\\n')\n",
        "print('Confusion Matrix      : \\n', ConfusionMatrixDisplay.from_estimator(rf_ms_1, X_test_final, y_test, cmap='Reds'))"
      ],
      "metadata": {
        "colab": {
          "base_uri": "https://localhost:8080/",
          "height": 545
        },
        "id": "fRbZys4jbH4O",
        "outputId": "cba6318f-af80-45bd-d62f-163f88a9fc9a"
      },
      "execution_count": 19,
      "outputs": [
        {
          "output_type": "stream",
          "name": "stdout",
          "text": [
            "F1 Score - Test Set   :  0.8695652173913043 \n",
            "\n",
            "Classification Report : \n",
            "               precision    recall  f1-score   support\n",
            "\n",
            "           0       0.96      0.88      0.92        77\n",
            "           1       0.82      0.93      0.87        43\n",
            "\n",
            "    accuracy                           0.90       120\n",
            "   macro avg       0.89      0.91      0.89       120\n",
            "weighted avg       0.91      0.90      0.90       120\n",
            " \n",
            "\n",
            "Confusion Matrix      : \n",
            " <sklearn.metrics._plot.confusion_matrix.ConfusionMatrixDisplay object at 0x7fe00776db90>\n"
          ]
        },
        {
          "output_type": "display_data",
          "data": {
            "text/plain": [
              "<Figure size 432x288 with 2 Axes>"
            ],
            "image/png": "[encoded data removed]"
          },
          "metadata": {
            "needs_background": "light"
          }
        }
      ]
    },
    {
      "cell_type": "code",
      "source": [
        "# Save Classification Report into a Dictionary\n",
        "\n",
        "score_reports = {\n",
        "    'train - precision' : precision_score(y_train, y_pred_train),\n",
        "    'train - recall' : recall_score(y_train, y_pred_train),\n",
        "    'train - accuracy' : accuracy_score(y_train, y_pred_train),\n",
        "    'train - f1_score' : f1_score(y_train, y_pred_train),\n",
        "    'test - precision' : precision_score(y_test, y_pred_test),\n",
        "    'test - recall' : recall_score(y_test, y_pred_test),\n",
        "    'test - accuracy_score' : accuracy_score(y_test, y_pred_test),\n",
        "    'test - f1_score' : f1_score(y_test, y_pred_test),\n",
        "}\n",
        "all_reports['Manual Search'] = score_reports\n",
        "pd.DataFrame(all_reports)"
      ],
      "metadata": {
        "colab": {
          "base_uri": "https://localhost:8080/",
          "height": 300
        },
        "id": "HLoi9gkCjxdL",
        "outputId": "7294b6cc-dd88-4c33-8d89-d62143e82e89"
      },
      "execution_count": 20,
      "outputs": [
        {
          "output_type": "execute_result",
          "data": {
            "text/plain": [
              "                       Baseline (Default Hyperparameter)  Manual Search\n",
              "train - precision                               0.990099       0.990099\n",
              "train - recall                                  1.000000       1.000000\n",
              "train - accuracy                                0.996429       0.996429\n",
              "train - f1_score                                0.995025       0.995025\n",
              "test - precision                                0.816327       0.816327\n",
              "test - recall                                   0.930233       0.930233\n",
              "test - accuracy_score                           0.900000       0.900000\n",
              "test - f1_score                                 0.869565       0.869565"
            ],
            "text/html": [
              "\n",
              "  <div id=\"df-f4ccc712-858e-40e3-ab7a-1836c56850d9\">\n",
              "    <div class=\"colab-df-container\">\n",
              "      <div>\n",
              "<style scoped>\n",
              "    .dataframe tbody tr th:only-of-type {\n",
              "        vertical-align: middle;\n",
              "    }\n",
              "\n",
              "    .dataframe tbody tr th {\n",
              "        vertical-align: top;\n",
              "    }\n",
              "\n",
              "    .dataframe thead th {\n",
              "        text-align: right;\n",
              "    }\n",
              "</style>\n",
              "<table border=\"1\" class=\"dataframe\">\n",
              "  <thead>\n",
              "    <tr style=\"text-align: right;\">\n",
              "      <th></th>\n",
              "      <th>Baseline (Default Hyperparameter)</th>\n",
              "      <th>Manual Search</th>\n",
              "    </tr>\n",
              "  </thead>\n",
              "  <tbody>\n",
              "    <tr>\n",
              "      <th>train - precision</th>\n",
              "      <td>0.990099</td>\n",
              "      <td>0.990099</td>\n",
              "    </tr>\n",
              "    <tr>\n",
              "      <th>train - recall</th>\n",
              "      <td>1.000000</td>\n",
              "      <td>1.000000</td>\n",
              "    </tr>\n",
              "    <tr>\n",
              "      <th>train - accuracy</th>\n",
              "      <td>0.996429</td>\n",
              "      <td>0.996429</td>\n",
              "    </tr>\n",
              "    <tr>\n",
              "      <th>train - f1_score</th>\n",
              "      <td>0.995025</td>\n",
              "      <td>0.995025</td>\n",
              "    </tr>\n",
              "    <tr>\n",
              "      <th>test - precision</th>\n",
              "      <td>0.816327</td>\n",
              "      <td>0.816327</td>\n",
              "    </tr>\n",
              "    <tr>\n",
              "      <th>test - recall</th>\n",
              "      <td>0.930233</td>\n",
              "      <td>0.930233</td>\n",
              "    </tr>\n",
              "    <tr>\n",
              "      <th>test - accuracy_score</th>\n",
              "      <td>0.900000</td>\n",
              "      <td>0.900000</td>\n",
              "    </tr>\n",
              "    <tr>\n",
              "      <th>test - f1_score</th>\n",
              "      <td>0.869565</td>\n",
              "      <td>0.869565</td>\n",
              "    </tr>\n",
              "  </tbody>\n",
              "</table>\n",
              "</div>\n",
              "      <button class=\"colab-df-convert\" onclick=\"convertToInteractive('df-f4ccc712-858e-40e3-ab7a-1836c56850d9')\"\n",
              "              title=\"Convert this dataframe to an interactive table.\"\n",
              "              style=\"display:none;\">\n",
              "        \n",
              "  <svg xmlns=\"http://www.w3.org/2000/svg\" height=\"24px\"viewBox=\"0 0 24 24\"\n",
              "       width=\"24px\">\n",
              "    <path d=\"M0 0h24v24H0V0z\" fill=\"none\"/>\n",
              "    <path d=\"M18.56 5.44l.94 2.06.94-2.06 2.06-.94-2.06-.94-.94-2.06-.94 2.06-2.06.94zm-11 1L8.5 8.5l.94-2.06 2.06-.94-2.06-.94L8.5 2.5l-.94 2.06-2.06.94zm10 10l.94 2.06.94-2.06 2.06-.94-2.06-.94-.94-2.06-.94 2.06-2.06.94z\"/><path d=\"M17.41 7.96l-1.37-1.37c-.4-.4-.92-.59-1.43-.59-.52 0-1.04.2-1.43.59L10.3 9.45l-7.72 7.72c-.78.78-.78 2.05 0 2.83L4 21.41c.39.39.9.59 1.41.59.51 0 1.02-.2 1.41-.59l7.78-7.78 2.81-2.81c.8-.78.8-2.07 0-2.86zM5.41 20L4 18.59l7.72-7.72 1.47 1.35L5.41 20z\"/>\n",
              "  </svg>\n",
              "      </button>\n",
              "      \n",
              "  <style>\n",
              "    .colab-df-container {\n",
              "      display:flex;\n",
              "      flex-wrap:wrap;\n",
              "      gap: 12px;\n",
              "    }\n",
              "\n",
              "    .colab-df-convert {\n",
              "      background-color: #E8F0FE;\n",
              "      border: none;\n",
              "      border-radius: 50%;\n",
              "      cursor: pointer;\n",
              "      display: none;\n",
              "      fill: #1967D2;\n",
              "      height: 32px;\n",
              "      padding: 0 0 0 0;\n",
              "      width: 32px;\n",
              "    }\n",
              "\n",
              "    .colab-df-convert:hover {\n",
              "      background-color: #E2EBFA;\n",
              "      box-shadow: 0px 1px 2px rgba(60, 64, 67, 0.3), 0px 1px 3px 1px rgba(60, 64, 67, 0.15);\n",
              "      fill: #174EA6;\n",
              "    }\n",
              "\n",
              "    [theme=dark] .colab-df-convert {\n",
              "      background-color: #3B4455;\n",
              "      fill: #D2E3FC;\n",
              "    }\n",
              "\n",
              "    [theme=dark] .colab-df-convert:hover {\n",
              "      background-color: #434B5C;\n",
              "      box-shadow: 0px 1px 3px 1px rgba(0, 0, 0, 0.15);\n",
              "      filter: drop-shadow(0px 1px 2px rgba(0, 0, 0, 0.3));\n",
              "      fill: #FFFFFF;\n",
              "    }\n",
              "  </style>\n",
              "\n",
              "      <script>\n",
              "        const buttonEl =\n",
              "          document.querySelector('#df-f4ccc712-858e-40e3-ab7a-1836c56850d9 button.colab-df-convert');\n",
              "        buttonEl.style.display =\n",
              "          google.colab.kernel.accessAllowed ? 'block' : 'none';\n",
              "\n",
              "        async function convertToInteractive(key) {\n",
              "          const element = document.querySelector('#df-f4ccc712-858e-40e3-ab7a-1836c56850d9');\n",
              "          const dataTable =\n",
              "            await google.colab.kernel.invokeFunction('convertToInteractive',\n",
              "                                                     [key], {});\n",
              "          if (!dataTable) return;\n",
              "\n",
              "          const docLinkHtml = 'Like what you see? Visit the ' +\n",
              "            '<a target=\"_blank\" href=https://colab.research.google.com/notebooks/data_table.ipynb>data table notebook</a>'\n",
              "            + ' to learn more about interactive tables.';\n",
              "          element.innerHTML = '';\n",
              "          dataTable['output_type'] = 'display_data';\n",
              "          await google.colab.output.renderOutput(dataTable, element);\n",
              "          const docLink = document.createElement('div');\n",
              "          docLink.innerHTML = docLinkHtml;\n",
              "          element.appendChild(docLink);\n",
              "        }\n",
              "      </script>\n",
              "    </div>\n",
              "  </div>\n",
              "  "
            ]
          },
          "metadata": {},
          "execution_count": 20
        }
      ]
    },
    {
      "cell_type": "markdown",
      "source": [
        "As we can see from above table, our model performance is improve both in train and test. \n",
        "\n",
        "Of course, we can try another hyperparameter manually and do Cross Validation. **But, what if we want to try many configurations of hyperparameters ? Should we input manual the configurations and run manually? NO.** In the following, we will use `RandomSearchCV` and `GridSearchCV` to optimize this process."
      ],
      "metadata": {
        "id": "Wrtk2CjpkJ6T"
      }
    },
    {
      "cell_type": "markdown",
      "source": [
        "### Random Search"
      ],
      "metadata": {
        "id": "_9Ujgfqubgbc"
      }
    },
    {
      "cell_type": "code",
      "execution_count": 21,
      "metadata": {
        "colab": {
          "base_uri": "https://localhost:8080/"
        },
        "id": "SXl7DZboeTWt",
        "outputId": "9919c543-419d-47ec-c9ad-a1d61e127ab1"
      },
      "outputs": [
        {
          "output_type": "execute_result",
          "data": {
            "text/plain": [
              "{'n_estimators': [200, 400, 600, 800, 1000, 1200, 1400, 1600, 1800, 2000],\n",
              " 'max_features': ['auto', 'sqrt', 'log2'],\n",
              " 'max_depth': [10, 120, 230, 340, 450, 560, 670, 780, 890, 1000],\n",
              " 'min_samples_split': [2, 5, 10, 14],\n",
              " 'min_samples_leaf': [1, 2, 4, 6, 8],\n",
              " 'criterion': ['entropy', 'gini']}"
            ]
          },
          "metadata": {},
          "execution_count": 21
        }
      ],
      "source": [
        "# Hyperparameter Tuning : Random Search\n",
        "\n",
        "from sklearn.model_selection import RandomizedSearchCV\n",
        "\n",
        "# Define Hyperparameters\n",
        "n_estimators = [int(x) for x in np.linspace(start=200, stop=2000, num = 10)]\n",
        "max_features = ['auto', 'sqrt', 'log2']\n",
        "max_depth = [int(x) for x in np.linspace(10, 1000, 10)]\n",
        "min_samples_split = [2, 5, 10, 14]\n",
        "min_samples_leaf = [1, 2, 4, 6, 8]\n",
        "random_grid = {'n_estimators': n_estimators,\n",
        "               'max_features':max_features,\n",
        "               'max_depth':max_depth,\n",
        "               'min_samples_split':min_samples_split,\n",
        "               'min_samples_leaf':min_samples_leaf,\n",
        "               'criterion':['entropy','gini']}\n",
        "random_grid"
      ]
    },
    {
      "cell_type": "code",
      "execution_count": 22,
      "metadata": {
        "colab": {
          "base_uri": "https://localhost:8080/"
        },
        "id": "2s3_jshxfzuj",
        "outputId": "8b5708c1-ce19-4d2e-deaa-0674ff8362f7"
      },
      "outputs": [
        {
          "output_type": "stream",
          "name": "stdout",
          "text": [
            "CPU times: user 4.35 s, sys: 414 ms, total: 4.76 s\n",
            "Wall time: 6min 3s\n"
          ]
        },
        {
          "output_type": "execute_result",
          "data": {
            "text/plain": [
              "RandomizedSearchCV(cv=5, estimator=RandomForestClassifier(), n_iter=50,\n",
              "                   n_jobs=-1,\n",
              "                   param_distributions={'criterion': ['entropy', 'gini'],\n",
              "                                        'max_depth': [10, 120, 230, 340, 450,\n",
              "                                                      560, 670, 780, 890,\n",
              "                                                      1000],\n",
              "                                        'max_features': ['auto', 'sqrt',\n",
              "                                                         'log2'],\n",
              "                                        'min_samples_leaf': [1, 2, 4, 6, 8],\n",
              "                                        'min_samples_split': [2, 5, 10, 14],\n",
              "                                        'n_estimators': [200, 400, 600, 800,\n",
              "                                                         1000, 1200, 1400, 1600,\n",
              "                                                         1800, 2000]},\n",
              "                   random_state=46, scoring='f1')"
            ]
          },
          "metadata": {},
          "execution_count": 22
        }
      ],
      "source": [
        "# Train with Random Search\n",
        "%%time\n",
        "\n",
        "rf_randomcv = RandomizedSearchCV(estimator=RandomForestClassifier(), \n",
        "                                 param_distributions=random_grid,\n",
        "                                 n_iter=50,\n",
        "                                 cv=5, \n",
        "                                 random_state=46, \n",
        "                                 n_jobs=-1, \n",
        "                                 scoring='f1')\n",
        "rf_randomcv.fit(X_train_final, y_train)"
      ]
    },
    {
      "cell_type": "code",
      "execution_count": 23,
      "metadata": {
        "colab": {
          "base_uri": "https://localhost:8080/"
        },
        "id": "Aa4qMWLCgyAQ",
        "outputId": "938a3f16-5b64-4d78-c8c8-e10cd8766990"
      },
      "outputs": [
        {
          "output_type": "execute_result",
          "data": {
            "text/plain": [
              "{'n_estimators': 600,\n",
              " 'min_samples_split': 10,\n",
              " 'min_samples_leaf': 8,\n",
              " 'max_features': 'log2',\n",
              " 'max_depth': 450,\n",
              " 'criterion': 'gini'}"
            ]
          },
          "metadata": {},
          "execution_count": 23
        }
      ],
      "source": [
        "# Get Best Hyperparameters\n",
        "\n",
        "rf_randomcv.best_params_"
      ]
    },
    {
      "cell_type": "code",
      "source": [
        "# Get Best Estimator\n",
        "\n",
        "rf_randomcv_best = rf_randomcv.best_estimator_"
      ],
      "metadata": {
        "id": "IV2gZOKjc-sg"
      },
      "execution_count": 24,
      "outputs": []
    },
    {
      "cell_type": "code",
      "source": [
        "# Check Performance Model against Test-Set\n",
        "\n",
        "y_pred_test = rf_randomcv_best.predict(X_test_final)\n",
        "\n",
        "print('F1 Score - Test Set   : ', f1_score(y_test, y_pred_test), '\\n')\n",
        "print('Classification Report : \\n', classification_report(y_test, y_pred_test), '\\n')\n",
        "print('Confusion Matrix      : \\n', ConfusionMatrixDisplay.from_estimator(rf_randomcv_best, X_test_final, y_test, cmap='Reds'))"
      ],
      "metadata": {
        "colab": {
          "base_uri": "https://localhost:8080/",
          "height": 545
        },
        "id": "jML0NpwBcO9q",
        "outputId": "963a628b-9277-4a42-b8f4-d60171b22b69"
      },
      "execution_count": 25,
      "outputs": [
        {
          "output_type": "stream",
          "name": "stdout",
          "text": [
            "F1 Score - Test Set   :  0.8842105263157894 \n",
            "\n",
            "Classification Report : \n",
            "               precision    recall  f1-score   support\n",
            "\n",
            "           0       0.99      0.87      0.92        77\n",
            "           1       0.81      0.98      0.88        43\n",
            "\n",
            "    accuracy                           0.91       120\n",
            "   macro avg       0.90      0.92      0.90       120\n",
            "weighted avg       0.92      0.91      0.91       120\n",
            " \n",
            "\n",
            "Confusion Matrix      : \n",
            " <sklearn.metrics._plot.confusion_matrix.ConfusionMatrixDisplay object at 0x7fe00888b810>\n"
          ]
        },
        {
          "output_type": "display_data",
          "data": {
            "text/plain": [
              "<Figure size 432x288 with 2 Axes>"
            ],
            "image/png": "[encoded data removed]"
          },
          "metadata": {
            "needs_background": "light"
          }
        }
      ]
    },
    {
      "cell_type": "code",
      "source": [
        "# Save Classification Report into a Dictionary\n",
        "\n",
        "score_reports = {\n",
        "    'train - precision' : precision_score(y_train, y_pred_train),\n",
        "    'train - recall' : recall_score(y_train, y_pred_train),\n",
        "    'train - accuracy' : accuracy_score(y_train, y_pred_train),\n",
        "    'train - f1_score' : f1_score(y_train, y_pred_train),\n",
        "    'test - precision' : precision_score(y_test, y_pred_test),\n",
        "    'test - recall' : recall_score(y_test, y_pred_test),\n",
        "    'test - accuracy_score' : accuracy_score(y_test, y_pred_test),\n",
        "    'test - f1_score' : f1_score(y_test, y_pred_test),\n",
        "}\n",
        "all_reports['Random Search'] = score_reports\n",
        "pd.DataFrame(all_reports)"
      ],
      "metadata": {
        "colab": {
          "base_uri": "https://localhost:8080/",
          "height": 300
        },
        "id": "rFSJnqBBlqWF",
        "outputId": "06a119f0-8c8d-4438-a148-52f23a5e566b"
      },
      "execution_count": 26,
      "outputs": [
        {
          "output_type": "execute_result",
          "data": {
            "text/plain": [
              "                       Baseline (Default Hyperparameter)  Manual Search  \\\n",
              "train - precision                               0.990099       0.990099   \n",
              "train - recall                                  1.000000       1.000000   \n",
              "train - accuracy                                0.996429       0.996429   \n",
              "train - f1_score                                0.995025       0.995025   \n",
              "test - precision                                0.816327       0.816327   \n",
              "test - recall                                   0.930233       0.930233   \n",
              "test - accuracy_score                           0.900000       0.900000   \n",
              "test - f1_score                                 0.869565       0.869565   \n",
              "\n",
              "                       Random Search  \n",
              "train - precision           0.990099  \n",
              "train - recall              1.000000  \n",
              "train - accuracy            0.996429  \n",
              "train - f1_score            0.995025  \n",
              "test - precision            0.807692  \n",
              "test - recall               0.976744  \n",
              "test - accuracy_score       0.908333  \n",
              "test - f1_score             0.884211  "
            ],
            "text/html": [
              "\n",
              "  <div id=\"df-6c69573c-d3cc-4085-a011-ea9d5c2c8e54\">\n",
              "    <div class=\"colab-df-container\">\n",
              "      <div>\n",
              "<style scoped>\n",
              "    .dataframe tbody tr th:only-of-type {\n",
              "        vertical-align: middle;\n",
              "    }\n",
              "\n",
              "    .dataframe tbody tr th {\n",
              "        vertical-align: top;\n",
              "    }\n",
              "\n",
              "    .dataframe thead th {\n",
              "        text-align: right;\n",
              "    }\n",
              "</style>\n",
              "<table border=\"1\" class=\"dataframe\">\n",
              "  <thead>\n",
              "    <tr style=\"text-align: right;\">\n",
              "      <th></th>\n",
              "      <th>Baseline (Default Hyperparameter)</th>\n",
              "      <th>Manual Search</th>\n",
              "      <th>Random Search</th>\n",
              "    </tr>\n",
              "  </thead>\n",
              "  <tbody>\n",
              "    <tr>\n",
              "      <th>train - precision</th>\n",
              "      <td>0.990099</td>\n",
              "      <td>0.990099</td>\n",
              "      <td>0.990099</td>\n",
              "    </tr>\n",
              "    <tr>\n",
              "      <th>train - recall</th>\n",
              "      <td>1.000000</td>\n",
              "      <td>1.000000</td>\n",
              "      <td>1.000000</td>\n",
              "    </tr>\n",
              "    <tr>\n",
              "      <th>train - accuracy</th>\n",
              "      <td>0.996429</td>\n",
              "      <td>0.996429</td>\n",
              "      <td>0.996429</td>\n",
              "    </tr>\n",
              "    <tr>\n",
              "      <th>train - f1_score</th>\n",
              "      <td>0.995025</td>\n",
              "      <td>0.995025</td>\n",
              "      <td>0.995025</td>\n",
              "    </tr>\n",
              "    <tr>\n",
              "      <th>test - precision</th>\n",
              "      <td>0.816327</td>\n",
              "      <td>0.816327</td>\n",
              "      <td>0.807692</td>\n",
              "    </tr>\n",
              "    <tr>\n",
              "      <th>test - recall</th>\n",
              "      <td>0.930233</td>\n",
              "      <td>0.930233</td>\n",
              "      <td>0.976744</td>\n",
              "    </tr>\n",
              "    <tr>\n",
              "      <th>test - accuracy_score</th>\n",
              "      <td>0.900000</td>\n",
              "      <td>0.900000</td>\n",
              "      <td>0.908333</td>\n",
              "    </tr>\n",
              "    <tr>\n",
              "      <th>test - f1_score</th>\n",
              "      <td>0.869565</td>\n",
              "      <td>0.869565</td>\n",
              "      <td>0.884211</td>\n",
              "    </tr>\n",
              "  </tbody>\n",
              "</table>\n",
              "</div>\n",
              "      <button class=\"colab-df-convert\" onclick=\"convertToInteractive('df-6c69573c-d3cc-4085-a011-ea9d5c2c8e54')\"\n",
              "              title=\"Convert this dataframe to an interactive table.\"\n",
              "              style=\"display:none;\">\n",
              "        \n",
              "  <svg xmlns=\"http://www.w3.org/2000/svg\" height=\"24px\"viewBox=\"0 0 24 24\"\n",
              "       width=\"24px\">\n",
              "    <path d=\"M0 0h24v24H0V0z\" fill=\"none\"/>\n",
              "    <path d=\"M18.56 5.44l.94 2.06.94-2.06 2.06-.94-2.06-.94-.94-2.06-.94 2.06-2.06.94zm-11 1L8.5 8.5l.94-2.06 2.06-.94-2.06-.94L8.5 2.5l-.94 2.06-2.06.94zm10 10l.94 2.06.94-2.06 2.06-.94-2.06-.94-.94-2.06-.94 2.06-2.06.94z\"/><path d=\"M17.41 7.96l-1.37-1.37c-.4-.4-.92-.59-1.43-.59-.52 0-1.04.2-1.43.59L10.3 9.45l-7.72 7.72c-.78.78-.78 2.05 0 2.83L4 21.41c.39.39.9.59 1.41.59.51 0 1.02-.2 1.41-.59l7.78-7.78 2.81-2.81c.8-.78.8-2.07 0-2.86zM5.41 20L4 18.59l7.72-7.72 1.47 1.35L5.41 20z\"/>\n",
              "  </svg>\n",
              "      </button>\n",
              "      \n",
              "  <style>\n",
              "    .colab-df-container {\n",
              "      display:flex;\n",
              "      flex-wrap:wrap;\n",
              "      gap: 12px;\n",
              "    }\n",
              "\n",
              "    .colab-df-convert {\n",
              "      background-color: #E8F0FE;\n",
              "      border: none;\n",
              "      border-radius: 50%;\n",
              "      cursor: pointer;\n",
              "      display: none;\n",
              "      fill: #1967D2;\n",
              "      height: 32px;\n",
              "      padding: 0 0 0 0;\n",
              "      width: 32px;\n",
              "    }\n",
              "\n",
              "    .colab-df-convert:hover {\n",
              "      background-color: #E2EBFA;\n",
              "      box-shadow: 0px 1px 2px rgba(60, 64, 67, 0.3), 0px 1px 3px 1px rgba(60, 64, 67, 0.15);\n",
              "      fill: #174EA6;\n",
              "    }\n",
              "\n",
              "    [theme=dark] .colab-df-convert {\n",
              "      background-color: #3B4455;\n",
              "      fill: #D2E3FC;\n",
              "    }\n",
              "\n",
              "    [theme=dark] .colab-df-convert:hover {\n",
              "      background-color: #434B5C;\n",
              "      box-shadow: 0px 1px 3px 1px rgba(0, 0, 0, 0.15);\n",
              "      filter: drop-shadow(0px 1px 2px rgba(0, 0, 0, 0.3));\n",
              "      fill: #FFFFFF;\n",
              "    }\n",
              "  </style>\n",
              "\n",
              "      <script>\n",
              "        const buttonEl =\n",
              "          document.querySelector('#df-6c69573c-d3cc-4085-a011-ea9d5c2c8e54 button.colab-df-convert');\n",
              "        buttonEl.style.display =\n",
              "          google.colab.kernel.accessAllowed ? 'block' : 'none';\n",
              "\n",
              "        async function convertToInteractive(key) {\n",
              "          const element = document.querySelector('#df-6c69573c-d3cc-4085-a011-ea9d5c2c8e54');\n",
              "          const dataTable =\n",
              "            await google.colab.kernel.invokeFunction('convertToInteractive',\n",
              "                                                     [key], {});\n",
              "          if (!dataTable) return;\n",
              "\n",
              "          const docLinkHtml = 'Like what you see? Visit the ' +\n",
              "            '<a target=\"_blank\" href=https://colab.research.google.com/notebooks/data_table.ipynb>data table notebook</a>'\n",
              "            + ' to learn more about interactive tables.';\n",
              "          element.innerHTML = '';\n",
              "          dataTable['output_type'] = 'display_data';\n",
              "          await google.colab.output.renderOutput(dataTable, element);\n",
              "          const docLink = document.createElement('div');\n",
              "          docLink.innerHTML = docLinkHtml;\n",
              "          element.appendChild(docLink);\n",
              "        }\n",
              "      </script>\n",
              "    </div>\n",
              "  </div>\n",
              "  "
            ]
          },
          "metadata": {},
          "execution_count": 26
        }
      ]
    },
    {
      "cell_type": "markdown",
      "source": [
        "### Grid Search"
      ],
      "metadata": {
        "id": "YgfBdguScYBn"
      }
    },
    {
      "cell_type": "code",
      "execution_count": 27,
      "metadata": {
        "colab": {
          "base_uri": "https://localhost:8080/"
        },
        "id": "npXbzn-D5qAz",
        "outputId": "af202977-d867-4fe4-a53f-2f3666a8bb57"
      },
      "outputs": [
        {
          "output_type": "execute_result",
          "data": {
            "text/plain": [
              "{'criterion': ['gini'],\n",
              " 'max_depth': [450],\n",
              " 'max_features': ['log2'],\n",
              " 'min_samples_leaf': [8, 10, 12],\n",
              " 'min_samples_split': [8, 9, 10, 11, 12],\n",
              " 'n_estimators': [400, 500, 600, 700, 800]}"
            ]
          },
          "metadata": {},
          "execution_count": 27
        }
      ],
      "source": [
        "# Hyperparameter Tuning : Grid Search\n",
        "from sklearn.model_selection import GridSearchCV\n",
        "\n",
        "# Reuse best hyperparameters from Random Search for efficiency\n",
        "param_grid = {\n",
        "    'criterion': [rf_randomcv.best_params_['criterion']],\n",
        "    'max_depth': [rf_randomcv.best_params_['max_depth']],\n",
        "    'max_features': [rf_randomcv.best_params_['max_features']],\n",
        "    'min_samples_leaf': [rf_randomcv.best_params_['min_samples_leaf'], \n",
        "                         rf_randomcv.best_params_['min_samples_leaf']+2, \n",
        "                         rf_randomcv.best_params_['min_samples_leaf'] + 4],\n",
        "    'min_samples_split': [rf_randomcv.best_params_['min_samples_split'] - 2,\n",
        "                          rf_randomcv.best_params_['min_samples_split'] - 1,\n",
        "                          rf_randomcv.best_params_['min_samples_split'], \n",
        "                          rf_randomcv.best_params_['min_samples_split'] +1,\n",
        "                          rf_randomcv.best_params_['min_samples_split'] + 2],\n",
        "    'n_estimators': [rf_randomcv.best_params_['n_estimators'] - 200, \n",
        "                     rf_randomcv.best_params_['n_estimators'] - 100, \n",
        "                     rf_randomcv.best_params_['n_estimators'], \n",
        "                     rf_randomcv.best_params_['n_estimators'] + 100, \n",
        "                     rf_randomcv.best_params_['n_estimators'] + 200]\n",
        "}\n",
        "\n",
        "param_grid"
      ]
    },
    {
      "cell_type": "code",
      "source": [
        "# Display Best Hyperparamters from Random Search\n",
        "\n",
        "rf_randomcv.best_params_"
      ],
      "metadata": {
        "colab": {
          "base_uri": "https://localhost:8080/"
        },
        "id": "9f_sUpaTFjzt",
        "outputId": "92f43d22-cf4c-44c0-eea5-cef899d6d6bb"
      },
      "execution_count": 28,
      "outputs": [
        {
          "output_type": "execute_result",
          "data": {
            "text/plain": [
              "{'n_estimators': 600,\n",
              " 'min_samples_split': 10,\n",
              " 'min_samples_leaf': 8,\n",
              " 'max_features': 'log2',\n",
              " 'max_depth': 450,\n",
              " 'criterion': 'gini'}"
            ]
          },
          "metadata": {},
          "execution_count": 28
        }
      ]
    },
    {
      "cell_type": "code",
      "execution_count": 29,
      "metadata": {
        "colab": {
          "base_uri": "https://localhost:8080/"
        },
        "id": "tcHzeWN86Jxd",
        "outputId": "8bd29286-ae7a-4daf-9dbc-efe65f61ec1b"
      },
      "outputs": [
        {
          "output_type": "stream",
          "name": "stdout",
          "text": [
            "Fitting 5 folds for each of 75 candidates, totalling 375 fits\n",
            "CPU times: user 4.82 s, sys: 385 ms, total: 5.21 s\n",
            "Wall time: 5min 25s\n"
          ]
        },
        {
          "output_type": "execute_result",
          "data": {
            "text/plain": [
              "GridSearchCV(cv=5, estimator=RandomForestClassifier(), n_jobs=-1,\n",
              "             param_grid={'criterion': ['gini'], 'max_depth': [450],\n",
              "                         'max_features': ['log2'],\n",
              "                         'min_samples_leaf': [8, 10, 12],\n",
              "                         'min_samples_split': [8, 9, 10, 11, 12],\n",
              "                         'n_estimators': [400, 500, 600, 700, 800]},\n",
              "             scoring='f1', verbose=2)"
            ]
          },
          "metadata": {},
          "execution_count": 29
        }
      ],
      "source": [
        "# Train with Grid Search\n",
        "%%time\n",
        "\n",
        "rf_gridcv = GridSearchCV(estimator=RandomForestClassifier(),\n",
        "                         param_grid=param_grid,\n",
        "                         cv=5,\n",
        "                         n_jobs=-1,\n",
        "                         verbose=2, \n",
        "                         scoring='f1')\n",
        "\n",
        "rf_gridcv.fit(X_train_final, y_train)"
      ]
    },
    {
      "cell_type": "code",
      "source": [
        "# Get Best Hyperparameters\n",
        "\n",
        "rf_gridcv.best_params_"
      ],
      "metadata": {
        "colab": {
          "base_uri": "https://localhost:8080/"
        },
        "id": "vEj-QKdsfKrk",
        "outputId": "cd214d9c-9c9a-4c9c-d40b-b8a6641a989a"
      },
      "execution_count": 30,
      "outputs": [
        {
          "output_type": "execute_result",
          "data": {
            "text/plain": [
              "{'criterion': 'gini',\n",
              " 'max_depth': 450,\n",
              " 'max_features': 'log2',\n",
              " 'min_samples_leaf': 8,\n",
              " 'min_samples_split': 8,\n",
              " 'n_estimators': 600}"
            ]
          },
          "metadata": {},
          "execution_count": 30
        }
      ]
    },
    {
      "cell_type": "code",
      "source": [
        "# Get Best Estimator\n",
        "\n",
        "rf_gridcv_best = rf_gridcv.best_estimator_"
      ],
      "metadata": {
        "id": "XDLq4T_JfO2r"
      },
      "execution_count": 31,
      "outputs": []
    },
    {
      "cell_type": "code",
      "execution_count": 32,
      "metadata": {
        "colab": {
          "base_uri": "https://localhost:8080/",
          "height": 545
        },
        "id": "N4UhYZxD9cWY",
        "outputId": "c764ab37-7fdd-4c3a-fc39-2fd53d5a9113"
      },
      "outputs": [
        {
          "output_type": "stream",
          "name": "stdout",
          "text": [
            "F1 Score - Test Set   :  0.8842105263157894 \n",
            "\n",
            "Classification Report : \n",
            "               precision    recall  f1-score   support\n",
            "\n",
            "           0       0.99      0.87      0.92        77\n",
            "           1       0.81      0.98      0.88        43\n",
            "\n",
            "    accuracy                           0.91       120\n",
            "   macro avg       0.90      0.92      0.90       120\n",
            "weighted avg       0.92      0.91      0.91       120\n",
            " \n",
            "\n",
            "Confusion Matrix      : \n",
            " <sklearn.metrics._plot.confusion_matrix.ConfusionMatrixDisplay object at 0x7fe007f4de10>\n"
          ]
        },
        {
          "output_type": "display_data",
          "data": {
            "text/plain": [
              "<Figure size 432x288 with 2 Axes>"
            ],
            "image/png": "[encoded data removed]"
          },
          "metadata": {
            "needs_background": "light"
          }
        }
      ],
      "source": [
        "# Check Performance Model against Test-Set\n",
        "\n",
        "y_pred_test = rf_gridcv_best.predict(X_test_final)\n",
        "\n",
        "print('F1 Score - Test Set   : ', f1_score(y_test, y_pred_test), '\\n')\n",
        "print('Classification Report : \\n', classification_report(y_test, y_pred_test), '\\n')\n",
        "print('Confusion Matrix      : \\n', ConfusionMatrixDisplay.from_estimator(rf_gridcv_best, X_test_final, y_test, cmap='Reds'))"
      ]
    },
    {
      "cell_type": "code",
      "source": [
        "# Save Classification Report into a Dictionary\n",
        "\n",
        "score_reports = {\n",
        "    'train - precision' : precision_score(y_train, y_pred_train),\n",
        "    'train - recall' : recall_score(y_train, y_pred_train),\n",
        "    'train - accuracy' : accuracy_score(y_train, y_pred_train),\n",
        "    'train - f1_score' : f1_score(y_train, y_pred_train),\n",
        "    'test - precision' : precision_score(y_test, y_pred_test),\n",
        "    'test - recall' : recall_score(y_test, y_pred_test),\n",
        "    'test - accuracy_score' : accuracy_score(y_test, y_pred_test),\n",
        "    'test - f1_score' : f1_score(y_test, y_pred_test),\n",
        "}\n",
        "all_reports['Grid Search'] = score_reports\n",
        "pd.DataFrame(all_reports)"
      ],
      "metadata": {
        "colab": {
          "base_uri": "https://localhost:8080/",
          "height": 300
        },
        "id": "VVAGlsYUmOvw",
        "outputId": "348bdaaf-b03a-4c4a-879f-17f3ea43db72"
      },
      "execution_count": 33,
      "outputs": [
        {
          "output_type": "execute_result",
          "data": {
            "text/plain": [
              "                       Baseline (Default Hyperparameter)  Manual Search  \\\n",
              "train - precision                               0.990099       0.990099   \n",
              "train - recall                                  1.000000       1.000000   \n",
              "train - accuracy                                0.996429       0.996429   \n",
              "train - f1_score                                0.995025       0.995025   \n",
              "test - precision                                0.816327       0.816327   \n",
              "test - recall                                   0.930233       0.930233   \n",
              "test - accuracy_score                           0.900000       0.900000   \n",
              "test - f1_score                                 0.869565       0.869565   \n",
              "\n",
              "                       Random Search  Grid Search  \n",
              "train - precision           0.990099     0.990099  \n",
              "train - recall              1.000000     1.000000  \n",
              "train - accuracy            0.996429     0.996429  \n",
              "train - f1_score            0.995025     0.995025  \n",
              "test - precision            0.807692     0.807692  \n",
              "test - recall               0.976744     0.976744  \n",
              "test - accuracy_score       0.908333     0.908333  \n",
              "test - f1_score             0.884211     0.884211  "
            ],
            "text/html": [
              "\n",
              "  <div id=\"df-c44fb415-14cb-4285-99f0-fa1d8aaea33e\">\n",
              "    <div class=\"colab-df-container\">\n",
              "      <div>\n",
              "<style scoped>\n",
              "    .dataframe tbody tr th:only-of-type {\n",
              "        vertical-align: middle;\n",
              "    }\n",
              "\n",
              "    .dataframe tbody tr th {\n",
              "        vertical-align: top;\n",
              "    }\n",
              "\n",
              "    .dataframe thead th {\n",
              "        text-align: right;\n",
              "    }\n",
              "</style>\n",
              "<table border=\"1\" class=\"dataframe\">\n",
              "  <thead>\n",
              "    <tr style=\"text-align: right;\">\n",
              "      <th></th>\n",
              "      <th>Baseline (Default Hyperparameter)</th>\n",
              "      <th>Manual Search</th>\n",
              "      <th>Random Search</th>\n",
              "      <th>Grid Search</th>\n",
              "    </tr>\n",
              "  </thead>\n",
              "  <tbody>\n",
              "    <tr>\n",
              "      <th>train - precision</th>\n",
              "      <td>0.990099</td>\n",
              "      <td>0.990099</td>\n",
              "      <td>0.990099</td>\n",
              "      <td>0.990099</td>\n",
              "    </tr>\n",
              "    <tr>\n",
              "      <th>train - recall</th>\n",
              "      <td>1.000000</td>\n",
              "      <td>1.000000</td>\n",
              "      <td>1.000000</td>\n",
              "      <td>1.000000</td>\n",
              "    </tr>\n",
              "    <tr>\n",
              "      <th>train - accuracy</th>\n",
              "      <td>0.996429</td>\n",
              "      <td>0.996429</td>\n",
              "      <td>0.996429</td>\n",
              "      <td>0.996429</td>\n",
              "    </tr>\n",
              "    <tr>\n",
              "      <th>train - f1_score</th>\n",
              "      <td>0.995025</td>\n",
              "      <td>0.995025</td>\n",
              "      <td>0.995025</td>\n",
              "      <td>0.995025</td>\n",
              "    </tr>\n",
              "    <tr>\n",
              "      <th>test - precision</th>\n",
              "      <td>0.816327</td>\n",
              "      <td>0.816327</td>\n",
              "      <td>0.807692</td>\n",
              "      <td>0.807692</td>\n",
              "    </tr>\n",
              "    <tr>\n",
              "      <th>test - recall</th>\n",
              "      <td>0.930233</td>\n",
              "      <td>0.930233</td>\n",
              "      <td>0.976744</td>\n",
              "      <td>0.976744</td>\n",
              "    </tr>\n",
              "    <tr>\n",
              "      <th>test - accuracy_score</th>\n",
              "      <td>0.900000</td>\n",
              "      <td>0.900000</td>\n",
              "      <td>0.908333</td>\n",
              "      <td>0.908333</td>\n",
              "    </tr>\n",
              "    <tr>\n",
              "      <th>test - f1_score</th>\n",
              "      <td>0.869565</td>\n",
              "      <td>0.869565</td>\n",
              "      <td>0.884211</td>\n",
              "      <td>0.884211</td>\n",
              "    </tr>\n",
              "  </tbody>\n",
              "</table>\n",
              "</div>\n",
              "      <button class=\"colab-df-convert\" onclick=\"convertToInteractive('df-c44fb415-14cb-4285-99f0-fa1d8aaea33e')\"\n",
              "              title=\"Convert this dataframe to an interactive table.\"\n",
              "              style=\"display:none;\">\n",
              "        \n",
              "  <svg xmlns=\"http://www.w3.org/2000/svg\" height=\"24px\"viewBox=\"0 0 24 24\"\n",
              "       width=\"24px\">\n",
              "    <path d=\"M0 0h24v24H0V0z\" fill=\"none\"/>\n",
              "    <path d=\"M18.56 5.44l.94 2.06.94-2.06 2.06-.94-2.06-.94-.94-2.06-.94 2.06-2.06.94zm-11 1L8.5 8.5l.94-2.06 2.06-.94-2.06-.94L8.5 2.5l-.94 2.06-2.06.94zm10 10l.94 2.06.94-2.06 2.06-.94-2.06-.94-.94-2.06-.94 2.06-2.06.94z\"/><path d=\"M17.41 7.96l-1.37-1.37c-.4-.4-.92-.59-1.43-.59-.52 0-1.04.2-1.43.59L10.3 9.45l-7.72 7.72c-.78.78-.78 2.05 0 2.83L4 21.41c.39.39.9.59 1.41.59.51 0 1.02-.2 1.41-.59l7.78-7.78 2.81-2.81c.8-.78.8-2.07 0-2.86zM5.41 20L4 18.59l7.72-7.72 1.47 1.35L5.41 20z\"/>\n",
              "  </svg>\n",
              "      </button>\n",
              "      \n",
              "  <style>\n",
              "    .colab-df-container {\n",
              "      display:flex;\n",
              "      flex-wrap:wrap;\n",
              "      gap: 12px;\n",
              "    }\n",
              "\n",
              "    .colab-df-convert {\n",
              "      background-color: #E8F0FE;\n",
              "      border: none;\n",
              "      border-radius: 50%;\n",
              "      cursor: pointer;\n",
              "      display: none;\n",
              "      fill: #1967D2;\n",
              "      height: 32px;\n",
              "      padding: 0 0 0 0;\n",
              "      width: 32px;\n",
              "    }\n",
              "\n",
              "    .colab-df-convert:hover {\n",
              "      background-color: #E2EBFA;\n",
              "      box-shadow: 0px 1px 2px rgba(60, 64, 67, 0.3), 0px 1px 3px 1px rgba(60, 64, 67, 0.15);\n",
              "      fill: #174EA6;\n",
              "    }\n",
              "\n",
              "    [theme=dark] .colab-df-convert {\n",
              "      background-color: #3B4455;\n",
              "      fill: #D2E3FC;\n",
              "    }\n",
              "\n",
              "    [theme=dark] .colab-df-convert:hover {\n",
              "      background-color: #434B5C;\n",
              "      box-shadow: 0px 1px 3px 1px rgba(0, 0, 0, 0.15);\n",
              "      filter: drop-shadow(0px 1px 2px rgba(0, 0, 0, 0.3));\n",
              "      fill: #FFFFFF;\n",
              "    }\n",
              "  </style>\n",
              "\n",
              "      <script>\n",
              "        const buttonEl =\n",
              "          document.querySelector('#df-c44fb415-14cb-4285-99f0-fa1d8aaea33e button.colab-df-convert');\n",
              "        buttonEl.style.display =\n",
              "          google.colab.kernel.accessAllowed ? 'block' : 'none';\n",
              "\n",
              "        async function convertToInteractive(key) {\n",
              "          const element = document.querySelector('#df-c44fb415-14cb-4285-99f0-fa1d8aaea33e');\n",
              "          const dataTable =\n",
              "            await google.colab.kernel.invokeFunction('convertToInteractive',\n",
              "                                                     [key], {});\n",
              "          if (!dataTable) return;\n",
              "\n",
              "          const docLinkHtml = 'Like what you see? Visit the ' +\n",
              "            '<a target=\"_blank\" href=https://colab.research.google.com/notebooks/data_table.ipynb>data table notebook</a>'\n",
              "            + ' to learn more about interactive tables.';\n",
              "          element.innerHTML = '';\n",
              "          dataTable['output_type'] = 'display_data';\n",
              "          await google.colab.output.renderOutput(dataTable, element);\n",
              "          const docLink = document.createElement('div');\n",
              "          docLink.innerHTML = docLinkHtml;\n",
              "          element.appendChild(docLink);\n",
              "        }\n",
              "      </script>\n",
              "    </div>\n",
              "  </div>\n",
              "  "
            ]
          },
          "metadata": {},
          "execution_count": 33
        }
      ]
    },
    {
      "cell_type": "markdown",
      "source": [
        "Even though `RandomSearchCV` and `GridSearchCV` produce same performance, but the best hyperparameter is different.\n",
        "\n",
        "From `RandomSearchCV` : \n",
        "```\n",
        "'n_estimators': 600,\n",
        "'min_samples_split': 10,\n",
        "'min_samples_leaf': 8,\n",
        "'max_features': 'log2',\n",
        "'max_depth': 450,\n",
        "'criterion': 'gini'\n",
        "```\n",
        "\n",
        "From `GridSearchCV` : \n",
        "```\n",
        "'criterion': 'gini',\n",
        "'max_depth': 450,\n",
        "'max_features': 'log2',\n",
        "'min_samples_leaf': 8,\n",
        "'min_samples_split': 8,\n",
        "'n_estimators': 400\n",
        "```"
      ],
      "metadata": {
        "id": "hp08AHuPoMke"
      }
    }
  ],
  "metadata": {
    "colab": {
      "collapsed_sections": [
        "e70LtIsuBidr",
        "xn-YqBhsBs3T",
        "fN8q-rzuBxni",
        "PVqYltSmB5Wb",
        "cKeqLC9xHQQ6"
      ],
      "provenance": [],
      "toc_visible": true
    },
    "kernelspec": {
      "display_name": "Python 3",
      "name": "python3"
    },
    "language_info": {
      "name": "python"
    }
  },
  "nbformat": 4,
  "nbformat_minor": 0
}